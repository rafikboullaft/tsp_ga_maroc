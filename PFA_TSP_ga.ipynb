{
  "nbformat": 4,
  "nbformat_minor": 0,
  "metadata": {
    "colab": {
      "name": "PFA_TSP_ga.ipynb",
      "provenance": [],
      "collapsed_sections": [],
      "toc_visible": true,
      "authorship_tag": "ABX9TyPFj9Wzj5ysbcfnvRRXjaeQ"
    },
    "kernelspec": {
      "name": "python3",
      "display_name": "Python 3"
    }
  },
  "cells": [
    {
      "cell_type": "markdown",
      "metadata": {
        "id": "rxu0P6cZigx9",
        "colab_type": "text"
      },
      "source": [
        "## **PFA - algorithmes génétiques - tsp**\n",
        "\n",
        "\n",
        "---\n",
        "\n",
        "\n",
        "\n"
      ]
    },
    {
      "cell_type": "markdown",
      "metadata": {
        "id": "V5iHaOgxyGJj",
        "colab_type": "text"
      },
      "source": [
        "# La préparation de données"
      ]
    },
    {
      "cell_type": "code",
      "metadata": {
        "id": "3iQNP0ayyLgz",
        "colab_type": "code",
        "colab": {}
      },
      "source": [
        "#intialisation des donnees\n",
        "\n",
        "# les villes à visiter (en ne peux pas passer 50 pour utiliser l api gratuitement )\n",
        "#countries3 = [\"Casablanca\",\"Beni-Mellal\",\"Meknes\",\"Marrakesh\",\n",
        "#                \"Larache\",\"Fes\",\"Mohammedia\",\"Midelt\",\"El Hoceima\",\n",
        "#               \"Tangier\",\"Rabat\",\"Agadir\",\"Essaouira\",\"Tetouan\",\"Sidi Slimane\",\"Chefchaouen\",\"Kenitra\",\"Ifran\",\"Nador\",\"Taroudant\",\"Settat\",\"Guelmim\",\"Khouribga\"]\n",
        "# villes = [\"Casablanca\",\"Beni-Mellal\",\"Meknes\",\"Marrakesh\",\"Larache\",\"Fes\",\"Mohammedia\",\"Midelt\",\"El Hoceima\",\"Tangier\",\"Rabat\",\"Agadir\",\"Essaouira\",\"Tetouan\",\"Sidi Slimane\",\"Chefchaouen\",\"Kenitra\",\"Ifran\",\"Nador\",\"Taroudant\",\"Settat\",\"Guelmim\",\"Khouribga\",\n",
        "#           \"Dakhla\",\"Laayoune\",\"Al Mahbes\",\"Saidia\",\"Zagora\",\"Merzouga\",\"Ouarzazate\",\"Awsard\",\"Moulay Idriss Zerhoun\",\"Tarfaya\",\"Lagouira\",\"Oujda\"]\n",
        "#countries2 = [\"Casablanca\",\"Beni-Mellal\",\"Meknes\",\"Marrakesh\",\n",
        " #               \"Larache\",\"Fes\",\"Mohammedia\",\"Midelt\",\"El Hoceima\",\n",
        "  #             \"Tangier\",\"Rabat\",\"Agadir\",\"Essaouira\",\"Tetouan\",\"Sidi Slimane\",\"Chefchaouen\",\"Kenitra\",\"Ifran\",\"Nador\",\"Taroudant\",\"Settat\",\"Guelmim\",\"Khouribga\",\"Saidia\",\"Zagora\",\"Merzouga\",\"Ouarzazate\",\"Oujda\",\"Moulay Idriss Zerhoun\"]\n",
        "#len(villes)"
      ],
      "execution_count": null,
      "outputs": []
    },
    {
      "cell_type": "code",
      "metadata": {
        "id": "fm9uDhxVyCLR",
        "colab_type": "code",
        "colab": {}
      },
      "source": [
        "villes = [\"Casablanca\",\"Beni-Mellal\",\"Meknes\",\"Marrakesh\",\"Larache\",\"Fes\",\"Mohammedia\",\"Midelt\",\"El Hoceima\",\"Tangier\",\"Rabat\",\"Agadir\",\"Essaouira\",\"Tetouan\",\"Sidi Slimane\",\"Chefchaouen\",\"Kenitra\",\"Ifran\",\"Nador\",\"Taroudant\",\"Settat\",\"Guelmim\",\"Khouribga\",\n",
        "          \"Dakhla\",\"Laayoune\",\"Al Mahbes\",\"Saidia\",\"Zagora\",\"Merzouga\",\"Ouarzazate\",\"Awsard\",\"Moulay Idriss Zerhoun\",\"Tarfaya\",\"Lagouira\",\"Oujda\"]"
      ],
      "execution_count": null,
      "outputs": []
    },
    {
      "cell_type": "code",
      "metadata": {
        "id": "GOmMsJiFllwG",
        "colab_type": "code",
        "colab": {
          "base_uri": "https://localhost:8080/",
          "height": 34
        },
        "outputId": "b7560323-f2f2-4895-87d5-e7d60a303136"
      },
      "source": [
        "print(f\"nombre de villes : {len(villes)}\")"
      ],
      "execution_count": null,
      "outputs": [
        {
          "output_type": "stream",
          "text": [
            "nombre de villes : 35\n"
          ],
          "name": "stdout"
        }
      ]
    },
    {
      "cell_type": "markdown",
      "metadata": {
        "id": "qHaWuhwD1Ba3",
        "colab_type": "text"
      },
      "source": [
        "installation de la bebliotheque google maps"
      ]
    },
    {
      "cell_type": "code",
      "metadata": {
        "id": "dXuFFijW0zfK",
        "colab_type": "code",
        "colab": {
          "base_uri": "https://localhost:8080/",
          "height": 275
        },
        "outputId": "cca63935-f733-4701-fc4b-ceda7ff70226"
      },
      "source": [
        "pip install googlemaps"
      ],
      "execution_count": null,
      "outputs": [
        {
          "output_type": "stream",
          "text": [
            "Collecting googlemaps\n",
            "  Downloading https://files.pythonhosted.org/packages/cb/87/5cbe65cd19defe67472db7afd84963a77fbbbe4a764320a67d4a64282b61/googlemaps-4.4.1.tar.gz\n",
            "Requirement already satisfied: requests<3.0,>=2.20.0 in /usr/local/lib/python3.6/dist-packages (from googlemaps) (2.23.0)\n",
            "Requirement already satisfied: urllib3!=1.25.0,!=1.25.1,<1.26,>=1.21.1 in /usr/local/lib/python3.6/dist-packages (from requests<3.0,>=2.20.0->googlemaps) (1.24.3)\n",
            "Requirement already satisfied: certifi>=2017.4.17 in /usr/local/lib/python3.6/dist-packages (from requests<3.0,>=2.20.0->googlemaps) (2020.6.20)\n",
            "Requirement already satisfied: chardet<4,>=3.0.2 in /usr/local/lib/python3.6/dist-packages (from requests<3.0,>=2.20.0->googlemaps) (3.0.4)\n",
            "Requirement already satisfied: idna<3,>=2.5 in /usr/local/lib/python3.6/dist-packages (from requests<3.0,>=2.20.0->googlemaps) (2.10)\n",
            "Building wheels for collected packages: googlemaps\n",
            "  Building wheel for googlemaps (setup.py) ... \u001b[?25l\u001b[?25hdone\n",
            "  Created wheel for googlemaps: filename=googlemaps-4.4.1-cp36-none-any.whl size=37819 sha256=1b44a0222326d17e4ec02b47462d6cc7bd94fb9eac8261f9765ac65d0bb93b36\n",
            "  Stored in directory: /root/.cache/pip/wheels/5c/ec/b9/9d0c26b80d7dcf16496c82e8108c93186c6d4df097a41bba4f\n",
            "Successfully built googlemaps\n",
            "Installing collected packages: googlemaps\n",
            "Successfully installed googlemaps-4.4.1\n"
          ],
          "name": "stdout"
        }
      ]
    },
    {
      "cell_type": "markdown",
      "metadata": {
        "id": "bGj6Ve0rgFcg",
        "colab_type": "text"
      },
      "source": [
        ""
      ]
    },
    {
      "cell_type": "code",
      "metadata": {
        "id": "2ifhW5pYzNUi",
        "colab_type": "code",
        "colab": {}
      },
      "source": [
        "#import \n",
        "import googlemaps\n",
        "#utilisation de l API \"Distance Matrix\" qui vas nous aider a calculer les distances entre les villes\n",
        "gm_api = googlemaps.Client(key=\"\")"
      ],
      "execution_count": null,
      "outputs": []
    },
    {
      "cell_type": "code",
      "metadata": {
        "id": "8NTKBvZs1DvG",
        "colab_type": "code",
        "colab": {}
      },
      "source": [
        "from itertools import combinations"
      ],
      "execution_count": null,
      "outputs": []
    },
    {
      "cell_type": "code",
      "metadata": {
        "id": "I3ujv9Oh07x1",
        "colab_type": "code",
        "colab": {}
      },
      "source": [
        "distance_villes = {}\n",
        "duree_villes ={}\n",
        "# calculer la distance et la duree entre chaque villes en mode \"driving\" avec le service distance_matrix de google maps\n",
        "for (ville1, ville2) in combinations(villes, 2):\n",
        "  route = gm_api.distance_matrix(origins=[ville1],\n",
        "                                 destinations=[ville2],\n",
        "                                 mode=\"driving\",\n",
        "                                 language=\"English\",\n",
        "                                 units=\"metric\")\n",
        "  #retourn une valeur (distance entre 2 villes) en metres\n",
        "  distance = route['rows'][0]['elements'][0]['distance']['value']\n",
        "  #retourn une valeur (duree entre 2 villes) en seconds\n",
        "  duree = route['rows'][0]['elements'][0]['duration']['value']\n",
        "\n",
        "  #stocker ses valeur dans un set\n",
        "  distance_villes[frozenset([ville1,ville2])] = distance\n",
        "  duree_villes[frozenset([ville1,ville2])] = duree\n"
      ],
      "execution_count": null,
      "outputs": []
    },
    {
      "cell_type": "markdown",
      "metadata": {
        "id": "-XhbuGRbLg5t",
        "colab_type": "text"
      },
      "source": [
        "output route: c'est un dictionaire\n",
        "{'destination_addresses': ['Khouribga, Morocco'],\n",
        " 'origin_addresses': ['Guelmim 81000, Morocco'],\n",
        " 'rows': [{'elements': [{'distance': {'text': '690 km', 'value': 690142},\n",
        "     'duration': {'text': '7 hours 48 mins', 'value': 28101},\n",
        "     'status': 'OK'}]}],\n",
        " 'status': 'OK'}"
      ]
    },
    {
      "cell_type": "code",
      "metadata": {
        "id": "h9L7cR3vaoTA",
        "colab_type": "code",
        "colab": {}
      },
      "source": [
        "# stocker notre sets dans un seul fichier tsv\n",
        "with open(\"mes_villes_dist_dur2.tsv\", \"w\") as mes_villes:\n",
        "  mes_villes.write(\"\\t\".join([\"ville1\",\"ville2\",\"distance_m\",\"duree_s\"]))\n",
        "  for (ville1, ville2) in distance_villes.keys():\n",
        "    #stockage sou forme ville1\\ville2\\dist_m\\dur_s\n",
        "    #transformer la distance et la duree a une chaine de character\n",
        "    mes_villes.write(\"\\n\" +\n",
        "                       \"\\t\".join([ville1,\n",
        "                                  ville2,\n",
        "                                  str(distance_villes[frozenset([ville1, ville2])]),\n",
        "                                  str(duree_villes[frozenset([ville1, ville2])])]))"
      ],
      "execution_count": null,
      "outputs": []
    },
    {
      "cell_type": "markdown",
      "metadata": {
        "id": "_E5ESVSmiCEr",
        "colab_type": "text"
      },
      "source": [
        "# lire les données"
      ]
    },
    {
      "cell_type": "code",
      "metadata": {
        "id": "BLlWwLpjRUFs",
        "colab_type": "code",
        "colab": {}
      },
      "source": [
        "import pandas as pd\n",
        "import numpy as np\n",
        "\n",
        "distance_villes = {}\n",
        "duree_villes ={}\n",
        "#list ==> set \n",
        "villes = set()\n",
        "#tsv file ==> dataframe avec pandas\n",
        "villes_data = pd.read_csv(\"mes_villes_dist_dur2.tsv\", sep=\"\\t\")\n",
        "\n",
        "for i, row in villes_data.iterrows():\n",
        "  distance_villes[frozenset([row.ville1, row.ville2])] = row.distance_m\n",
        "  duree_villes[frozenset([row.ville1, row.ville2])] = row.duree_s\n",
        "  villes.update([row.ville1, row.ville2])"
      ],
      "execution_count": null,
      "outputs": []
    },
    {
      "cell_type": "code",
      "metadata": {
        "id": "cQltvHTdXWEJ",
        "colab_type": "code",
        "colab": {
          "base_uri": "https://localhost:8080/",
          "height": 419
        },
        "outputId": "5914e7ce-0dd3-4a2d-e89a-8f6f315eb277"
      },
      "source": [
        "villes_data"
      ],
      "execution_count": null,
      "outputs": [
        {
          "output_type": "execute_result",
          "data": {
            "text/html": [
              "<div>\n",
              "<style scoped>\n",
              "    .dataframe tbody tr th:only-of-type {\n",
              "        vertical-align: middle;\n",
              "    }\n",
              "\n",
              "    .dataframe tbody tr th {\n",
              "        vertical-align: top;\n",
              "    }\n",
              "\n",
              "    .dataframe thead th {\n",
              "        text-align: right;\n",
              "    }\n",
              "</style>\n",
              "<table border=\"1\" class=\"dataframe\">\n",
              "  <thead>\n",
              "    <tr style=\"text-align: right;\">\n",
              "      <th></th>\n",
              "      <th>ville1</th>\n",
              "      <th>ville2</th>\n",
              "      <th>distance_m</th>\n",
              "      <th>duree_s</th>\n",
              "    </tr>\n",
              "  </thead>\n",
              "  <tbody>\n",
              "    <tr>\n",
              "      <th>0</th>\n",
              "      <td>Beni-Mellal</td>\n",
              "      <td>Casablanca</td>\n",
              "      <td>222593</td>\n",
              "      <td>8836</td>\n",
              "    </tr>\n",
              "    <tr>\n",
              "      <th>1</th>\n",
              "      <td>Meknes</td>\n",
              "      <td>Casablanca</td>\n",
              "      <td>238107</td>\n",
              "      <td>9349</td>\n",
              "    </tr>\n",
              "    <tr>\n",
              "      <th>2</th>\n",
              "      <td>Marrakesh</td>\n",
              "      <td>Casablanca</td>\n",
              "      <td>241636</td>\n",
              "      <td>9441</td>\n",
              "    </tr>\n",
              "    <tr>\n",
              "      <th>3</th>\n",
              "      <td>Casablanca</td>\n",
              "      <td>Larache</td>\n",
              "      <td>258596</td>\n",
              "      <td>9469</td>\n",
              "    </tr>\n",
              "    <tr>\n",
              "      <th>4</th>\n",
              "      <td>Fes</td>\n",
              "      <td>Casablanca</td>\n",
              "      <td>293990</td>\n",
              "      <td>10972</td>\n",
              "    </tr>\n",
              "    <tr>\n",
              "      <th>...</th>\n",
              "      <td>...</td>\n",
              "      <td>...</td>\n",
              "      <td>...</td>\n",
              "      <td>...</td>\n",
              "    </tr>\n",
              "    <tr>\n",
              "      <th>590</th>\n",
              "      <td>Moulay Idriss Zerhoun</td>\n",
              "      <td>Lagouira</td>\n",
              "      <td>2239983</td>\n",
              "      <td>95317</td>\n",
              "    </tr>\n",
              "    <tr>\n",
              "      <th>591</th>\n",
              "      <td>Moulay Idriss Zerhoun</td>\n",
              "      <td>Oujda</td>\n",
              "      <td>412972</td>\n",
              "      <td>15890</td>\n",
              "    </tr>\n",
              "    <tr>\n",
              "      <th>592</th>\n",
              "      <td>Lagouira</td>\n",
              "      <td>Tarfaya</td>\n",
              "      <td>989021</td>\n",
              "      <td>42449</td>\n",
              "    </tr>\n",
              "    <tr>\n",
              "      <th>593</th>\n",
              "      <td>Oujda</td>\n",
              "      <td>Tarfaya</td>\n",
              "      <td>1596257</td>\n",
              "      <td>63756</td>\n",
              "    </tr>\n",
              "    <tr>\n",
              "      <th>594</th>\n",
              "      <td>Oujda</td>\n",
              "      <td>Lagouira</td>\n",
              "      <td>2589261</td>\n",
              "      <td>106914</td>\n",
              "    </tr>\n",
              "  </tbody>\n",
              "</table>\n",
              "<p>595 rows × 4 columns</p>\n",
              "</div>"
            ],
            "text/plain": [
              "                    ville1      ville2  distance_m  duree_s\n",
              "0              Beni-Mellal  Casablanca      222593     8836\n",
              "1                   Meknes  Casablanca      238107     9349\n",
              "2                Marrakesh  Casablanca      241636     9441\n",
              "3               Casablanca     Larache      258596     9469\n",
              "4                      Fes  Casablanca      293990    10972\n",
              "..                     ...         ...         ...      ...\n",
              "590  Moulay Idriss Zerhoun    Lagouira     2239983    95317\n",
              "591  Moulay Idriss Zerhoun       Oujda      412972    15890\n",
              "592               Lagouira     Tarfaya      989021    42449\n",
              "593                  Oujda     Tarfaya     1596257    63756\n",
              "594                  Oujda    Lagouira     2589261   106914\n",
              "\n",
              "[595 rows x 4 columns]"
            ]
          },
          "metadata": {
            "tags": []
          },
          "execution_count": 2
        }
      ]
    },
    {
      "cell_type": "markdown",
      "metadata": {
        "id": "YMza54d2iLXG",
        "colab_type": "text"
      },
      "source": [
        "# algorithmes génétiques"
      ]
    },
    {
      "cell_type": "markdown",
      "metadata": {
        "id": "mTuU_jc_kQjq",
        "colab_type": "text"
      },
      "source": [
        "## **`algorithmes génétiques`** \n",
        "Il y a trois opérateurs d'évolution dans les algorithmes génétiques :\n",
        "\n",
        "* La sélection : Choix des individus les mieux adaptés.\n",
        "* Le croisement : Mélange par la reproduction des particularités des individus choisis.\n",
        "* La mutation : Altération aléatoire des particularités d'un individu."
      ]
    },
    {
      "cell_type": "code",
      "metadata": {
        "id": "8K-BP26JXZrN",
        "colab_type": "code",
        "colab": {}
      },
      "source": [
        "import random\n",
        "\n",
        "## \n",
        "def compute_fitness(solution):\n",
        "  \"\"\" cette function return la distance totale du chemin courant entre les villes\"\"\"\n",
        "  solution_fitness = 0.0\n",
        "  for i in range(len(solution)):\n",
        "    ville1 = solution[i - 1]\n",
        "    ville2 = solution[i]\n",
        "    solution_fitness += distance_villes[frozenset([ville1, ville2])]\n",
        "  return solution_fitness\n",
        "\n",
        "#### choix aleatoire\n",
        "def chemin_aleatoire():\n",
        "  \"\"\" creer un chemin aleatoire par l'ensembles des villes donnees \"\"\"\n",
        "  new_chemin = list(villes)\n",
        "  # melanger notre list\n",
        "  random.shuffle(new_chemin)\n",
        "  return tuple(new_chemin)\n",
        "#### mutation 1 : echange\n",
        "def mutation_agent(agent_genome, max_mutaions=3):\n",
        "  \"\"\" faire l echange au max de 3 villes dans notre set \"\"\"\n",
        "  agent_genome = list(agent_genome)\n",
        "  num_mutation = random.randint(1,max_mutaions)\n",
        "  for mut in range(num_mutation):\n",
        "    index_echange1 = random.randint(0,len(agent_genome)-1)\n",
        "\n",
        "    index_echange2 = index_echange1\n",
        "    # pour eviter de choisir le meme index\n",
        "    while index_echange1 == index_echange2:\n",
        "      index_echange2 = random.randint(0,len(agent_genome)-1)\n",
        "    # faire l'echange\n",
        "    agent_genome[index_echange1], agent_genome[index_echange2] = agent_genome[index_echange2], agent_genome[index_echange1]\n",
        "  \n",
        "  return tuple(agent_genome)\n",
        "\n",
        "#### mutation 2 : melange \n",
        "def melange_mutation(agent_genome):\n",
        "  \"\"\"\n",
        "   couper une sous list de taille aléatoire et la déplacer à un autre index aléatoire\n",
        "  \"\"\"\n",
        "  agent_genome = list(agent_genome)\n",
        "\n",
        "  debut = random.randint(0, len(agent_genome)-1)\n",
        "  fin = debut + random.randint(2,10)\n",
        "\n",
        "  sous_genome = agent_genome[debut:fin]\n",
        "  agent_genome = agent_genome[:debut] + agent_genome[fin:]\n",
        "\n",
        "  index_insertion = random.randint(0, len(agent_genome)-1)\n",
        "  #index_insertion = random.randint(0,len(agent_genome)-1)\n",
        "  agent_genome = agent_genome[:index_insertion] + sous_genome + agent_genome[index_insertion:]\n",
        "  return tuple(agent_genome)\n",
        "\n",
        "##### generer une population de differents chemin\n",
        "\n",
        "def generate_random_population(population_size):\n",
        "  random_population = []\n",
        "  for agent in range(population_size):\n",
        "    random_population.append(chemin_aleatoire())\n",
        "  return random_population\n",
        "\n",
        "##### pour visualiser les resultats\n",
        "\n",
        "progress_visualisation_y = []\n",
        "progress_visualisation_x = []\n",
        "\n",
        "#####\n",
        "\n",
        "def genetique_algo(generations = 5000, population_size= 100):\n",
        "  \"\"\" fonction main de l algorithme genetique \"\"\"\n",
        "  population_subset_size = int(population_size/10)\n",
        "  generation_sub = int(generations/10)\n",
        "  # creer une population\n",
        "  population = generate_random_population(population_size)\n",
        "\n",
        "  \n",
        "\n",
        "  for generation in range(generations):\n",
        "    # calculer la distance entre les villes de tout la population\n",
        "    population_fitness = {}\n",
        "\n",
        "    for agent_genome in population:\n",
        "      if agent_genome in population_fitness:\n",
        "        continue\n",
        "      population_fitness[agent_genome] = compute_fitness(agent_genome)\n",
        "    \n",
        "    # prendre 10% de la population qui a le chemin le optimale et produire une offspring chacun d'eux\n",
        "    new_population = []\n",
        "    for rank, agent_genome in enumerate(sorted(population_fitness, key=population_fitness.get)[:population_subset_size]):\n",
        "      if (generation % generation_sub == 0 or generation == generations -1 ) and rank == 0:\n",
        "        print(f\"Generation: {generation}, optimal chemin: {population_fitness[agent_genome]} m | unique genomes: {len(population_fitness)}\")\n",
        "\n",
        "        progress_visualisation_y.append(population_fitness[agent_genome])\n",
        "        progress_visualisation_x.append(generation)\n",
        "\n",
        "        print(agent_genome)\n",
        "        print(\"--------------------------------------------------\")\n",
        "      #### faire les mutation pour la 10% de la population\n",
        "      # creer une copie pour chaque chemin selectee\n",
        "      new_population.append(agent_genome)\n",
        "      # mutation 1 : creer 2 offspring par la mutation d'echange\n",
        "      for i in range(2):\n",
        "        new_population.append(mutation_agent(agent_genome, 3))\n",
        "      \n",
        "      # mutation 2 : creer 7 offspring par la mutaion de melange\n",
        "      for i in range(7):\n",
        "        new_population.append(melange_mutation(agent_genome))\n",
        "      \n",
        "      # remplacer population ==> new population de offspring\n",
        "    for i in range(len(population))[::-1]:\n",
        "      del population[i]\n",
        "    population = new_population\n",
        "  print(\"================ the optimal road ================\")\n",
        "  print(agent_genome)\n",
        "  print(\"==================================================\")\n",
        "  return list(agent_genome)"
      ],
      "execution_count": null,
      "outputs": []
    },
    {
      "cell_type": "markdown",
      "metadata": {
        "id": "C85zDl9kmR87",
        "colab_type": "text"
      },
      "source": [
        "en change le nombre de **generations** et **la taille de population** pour avoir des resultat plus optimiser "
      ]
    },
    {
      "cell_type": "code",
      "metadata": {
        "id": "kQFHEHssh8Cn",
        "colab_type": "code",
        "colab": {
          "base_uri": "https://localhost:8080/",
          "height": 1000
        },
        "outputId": "0a9ac063-c79f-46bc-f017-8ce3861a708c"
      },
      "source": [
        "progress_visualisation_y = []\n",
        "progress_visualisation_x = []\n",
        "genetique_algo(generations=1000, population_size=100)"
      ],
      "execution_count": null,
      "outputs": [
        {
          "output_type": "stream",
          "text": [
            "Generation: 0, optimal chemin: 21946985.0 m | unique genomes: 100\n",
            "('Ifran', 'Beni-Mellal', 'Mohammedia', 'Marrakesh', 'Tetouan', 'Settat', 'Lagouira', 'Dakhla', 'Guelmim', 'Essaouira', 'Ouarzazate', 'Zagora', 'El Hoceima', 'Larache', 'Fes', 'Chefchaouen', 'Khouribga', 'Taroudant', 'Laayoune', 'Moulay Idriss Zerhoun', 'Midelt', 'Rabat', 'Awsard', 'Al Mahbes', 'Agadir', 'Kenitra', 'Saidia', 'Casablanca', 'Oujda', 'Merzouga', 'Nador', 'Sidi Slimane', 'Tarfaya', 'Tangier', 'Meknes')\n",
            "--------------------------------------------------\n",
            "Generation: 100, optimal chemin: 8310481.0 m | unique genomes: 95\n",
            "('Zagora', 'Ouarzazate', 'Marrakesh', 'Taroudant', 'Guelmim', 'Tarfaya', 'Laayoune', 'Awsard', 'Lagouira', 'Dakhla', 'Al Mahbes', 'Agadir', 'Essaouira', 'Mohammedia', 'Casablanca', 'Settat', 'Beni-Mellal', 'Khouribga', 'Rabat', 'Kenitra', 'Tangier', 'Larache', 'Sidi Slimane', 'Chefchaouen', 'Tetouan', 'El Hoceima', 'Saidia', 'Oujda', 'Nador', 'Fes', 'Moulay Idriss Zerhoun', 'Meknes', 'Ifran', 'Midelt', 'Merzouga')\n",
            "--------------------------------------------------\n",
            "Generation: 200, optimal chemin: 7992725.0 m | unique genomes: 99\n",
            "('Zagora', 'Ouarzazate', 'Marrakesh', 'Taroudant', 'Guelmim', 'Tarfaya', 'Laayoune', 'Awsard', 'Lagouira', 'Dakhla', 'Al Mahbes', 'Agadir', 'Essaouira', 'Settat', 'Beni-Mellal', 'Khouribga', 'Mohammedia', 'Casablanca', 'Rabat', 'Kenitra', 'Sidi Slimane', 'Larache', 'Tangier', 'Chefchaouen', 'Tetouan', 'El Hoceima', 'Saidia', 'Oujda', 'Nador', 'Fes', 'Moulay Idriss Zerhoun', 'Meknes', 'Ifran', 'Midelt', 'Merzouga')\n",
            "--------------------------------------------------\n",
            "Generation: 300, optimal chemin: 7739559.0 m | unique genomes: 97\n",
            "('Khouribga', 'Settat', 'Mohammedia', 'Casablanca', 'Rabat', 'Kenitra', 'Sidi Slimane', 'Larache', 'Tangier', 'Chefchaouen', 'Tetouan', 'El Hoceima', 'Oujda', 'Saidia', 'Nador', 'Fes', 'Moulay Idriss Zerhoun', 'Meknes', 'Ifran', 'Midelt', 'Merzouga', 'Zagora', 'Ouarzazate', 'Taroudant', 'Guelmim', 'Tarfaya', 'Laayoune', 'Lagouira', 'Awsard', 'Dakhla', 'Al Mahbes', 'Agadir', 'Essaouira', 'Marrakesh', 'Beni-Mellal')\n",
            "--------------------------------------------------\n",
            "Generation: 400, optimal chemin: 7680423.0 m | unique genomes: 98\n",
            "('Guelmim', 'Tarfaya', 'Dakhla', 'Lagouira', 'Awsard', 'Laayoune', 'Al Mahbes', 'Agadir', 'Essaouira', 'Marrakesh', 'Beni-Mellal', 'Khouribga', 'Settat', 'Casablanca', 'Mohammedia', 'Rabat', 'Kenitra', 'Sidi Slimane', 'Larache', 'Tangier', 'Chefchaouen', 'Tetouan', 'El Hoceima', 'Oujda', 'Saidia', 'Nador', 'Fes', 'Moulay Idriss Zerhoun', 'Meknes', 'Ifran', 'Midelt', 'Merzouga', 'Zagora', 'Ouarzazate', 'Taroudant')\n",
            "--------------------------------------------------\n",
            "Generation: 500, optimal chemin: 7564636.0 m | unique genomes: 99\n",
            "('Oujda', 'Fes', 'Moulay Idriss Zerhoun', 'Meknes', 'Ifran', 'Midelt', 'Merzouga', 'Zagora', 'Ouarzazate', 'Taroudant', 'Guelmim', 'Tarfaya', 'Lagouira', 'Awsard', 'Dakhla', 'Laayoune', 'Al Mahbes', 'Agadir', 'Essaouira', 'Marrakesh', 'Beni-Mellal', 'Khouribga', 'Settat', 'Casablanca', 'Mohammedia', 'Rabat', 'Kenitra', 'Sidi Slimane', 'Larache', 'Tangier', 'Chefchaouen', 'Tetouan', 'El Hoceima', 'Nador', 'Saidia')\n",
            "--------------------------------------------------\n",
            "Generation: 600, optimal chemin: 7518347.0 m | unique genomes: 93\n",
            "('Khouribga', 'Settat', 'Casablanca', 'Mohammedia', 'Rabat', 'Kenitra', 'Sidi Slimane', 'Larache', 'Tangier', 'Tetouan', 'Chefchaouen', 'El Hoceima', 'Nador', 'Saidia', 'Oujda', 'Fes', 'Moulay Idriss Zerhoun', 'Meknes', 'Ifran', 'Midelt', 'Merzouga', 'Zagora', 'Ouarzazate', 'Taroudant', 'Guelmim', 'Tarfaya', 'Dakhla', 'Awsard', 'Lagouira', 'Laayoune', 'Al Mahbes', 'Agadir', 'Essaouira', 'Marrakesh', 'Beni-Mellal')\n",
            "--------------------------------------------------\n",
            "Generation: 700, optimal chemin: 7518331.0 m | unique genomes: 97\n",
            "('Laayoune', 'Al Mahbes', 'Agadir', 'Essaouira', 'Marrakesh', 'Beni-Mellal', 'Khouribga', 'Settat', 'Casablanca', 'Mohammedia', 'Rabat', 'Kenitra', 'Sidi Slimane', 'Larache', 'Tangier', 'Tetouan', 'Chefchaouen', 'El Hoceima', 'Nador', 'Saidia', 'Oujda', 'Fes', 'Moulay Idriss Zerhoun', 'Meknes', 'Ifran', 'Midelt', 'Merzouga', 'Zagora', 'Ouarzazate', 'Taroudant', 'Guelmim', 'Tarfaya', 'Lagouira', 'Awsard', 'Dakhla')\n",
            "--------------------------------------------------\n",
            "Generation: 800, optimal chemin: 7518331.0 m | unique genomes: 98\n",
            "('Laayoune', 'Al Mahbes', 'Agadir', 'Essaouira', 'Marrakesh', 'Beni-Mellal', 'Khouribga', 'Settat', 'Casablanca', 'Mohammedia', 'Rabat', 'Kenitra', 'Sidi Slimane', 'Larache', 'Tangier', 'Tetouan', 'Chefchaouen', 'El Hoceima', 'Nador', 'Saidia', 'Oujda', 'Fes', 'Moulay Idriss Zerhoun', 'Meknes', 'Ifran', 'Midelt', 'Merzouga', 'Zagora', 'Ouarzazate', 'Taroudant', 'Guelmim', 'Tarfaya', 'Lagouira', 'Awsard', 'Dakhla')\n",
            "--------------------------------------------------\n",
            "Generation: 900, optimal chemin: 7518331.0 m | unique genomes: 98\n",
            "('Laayoune', 'Al Mahbes', 'Agadir', 'Essaouira', 'Marrakesh', 'Beni-Mellal', 'Khouribga', 'Settat', 'Casablanca', 'Mohammedia', 'Rabat', 'Kenitra', 'Sidi Slimane', 'Larache', 'Tangier', 'Tetouan', 'Chefchaouen', 'El Hoceima', 'Nador', 'Saidia', 'Oujda', 'Fes', 'Moulay Idriss Zerhoun', 'Meknes', 'Ifran', 'Midelt', 'Merzouga', 'Zagora', 'Ouarzazate', 'Taroudant', 'Guelmim', 'Tarfaya', 'Lagouira', 'Awsard', 'Dakhla')\n",
            "--------------------------------------------------\n",
            "Generation: 999, optimal chemin: 7518331.0 m | unique genomes: 98\n",
            "('Laayoune', 'Al Mahbes', 'Agadir', 'Essaouira', 'Marrakesh', 'Beni-Mellal', 'Khouribga', 'Settat', 'Casablanca', 'Mohammedia', 'Rabat', 'Kenitra', 'Sidi Slimane', 'Larache', 'Tangier', 'Tetouan', 'Chefchaouen', 'El Hoceima', 'Nador', 'Saidia', 'Oujda', 'Fes', 'Moulay Idriss Zerhoun', 'Meknes', 'Ifran', 'Midelt', 'Merzouga', 'Zagora', 'Ouarzazate', 'Taroudant', 'Guelmim', 'Tarfaya', 'Lagouira', 'Awsard', 'Dakhla')\n",
            "--------------------------------------------------\n",
            "================ the optimal road ================\n",
            "('El Hoceima', 'Nador', 'Saidia', 'Oujda', 'Fes', 'Moulay Idriss Zerhoun', 'Meknes', 'Ifran', 'Midelt', 'Merzouga', 'Zagora', 'Ouarzazate', 'Taroudant', 'Guelmim', 'Tarfaya', 'Lagouira', 'Awsard', 'Dakhla', 'Laayoune', 'Al Mahbes', 'Agadir', 'Essaouira', 'Marrakesh', 'Beni-Mellal', 'Khouribga', 'Settat', 'Casablanca', 'Mohammedia', 'Rabat', 'Kenitra', 'Sidi Slimane', 'Larache', 'Tangier', 'Tetouan', 'Chefchaouen')\n",
            "==================================================\n"
          ],
          "name": "stdout"
        },
        {
          "output_type": "execute_result",
          "data": {
            "text/plain": [
              "['El Hoceima',\n",
              " 'Nador',\n",
              " 'Saidia',\n",
              " 'Oujda',\n",
              " 'Fes',\n",
              " 'Moulay Idriss Zerhoun',\n",
              " 'Meknes',\n",
              " 'Ifran',\n",
              " 'Midelt',\n",
              " 'Merzouga',\n",
              " 'Zagora',\n",
              " 'Ouarzazate',\n",
              " 'Taroudant',\n",
              " 'Guelmim',\n",
              " 'Tarfaya',\n",
              " 'Lagouira',\n",
              " 'Awsard',\n",
              " 'Dakhla',\n",
              " 'Laayoune',\n",
              " 'Al Mahbes',\n",
              " 'Agadir',\n",
              " 'Essaouira',\n",
              " 'Marrakesh',\n",
              " 'Beni-Mellal',\n",
              " 'Khouribga',\n",
              " 'Settat',\n",
              " 'Casablanca',\n",
              " 'Mohammedia',\n",
              " 'Rabat',\n",
              " 'Kenitra',\n",
              " 'Sidi Slimane',\n",
              " 'Larache',\n",
              " 'Tangier',\n",
              " 'Tetouan',\n",
              " 'Chefchaouen']"
            ]
          },
          "metadata": {
            "tags": []
          },
          "execution_count": 4
        }
      ]
    },
    {
      "cell_type": "markdown",
      "metadata": {
        "id": "j0qmJ-Jcnem0",
        "colab_type": "text"
      },
      "source": [
        "# Visualisation du progree de l'algorithme génétique"
      ]
    },
    {
      "cell_type": "code",
      "metadata": {
        "id": "pMuuOJDWAnCc",
        "colab_type": "code",
        "colab": {}
      },
      "source": [
        "from google.colab import drive\n",
        "drive.mount('/content/drive')"
      ],
      "execution_count": null,
      "outputs": []
    },
    {
      "cell_type": "code",
      "metadata": {
        "id": "cSFGy7ucaIp0",
        "colab_type": "code",
        "colab": {}
      },
      "source": [
        "# m ==> km\n",
        "progress_visualisation_y = [i / 1000  for i in progress_visualisation_y]"
      ],
      "execution_count": null,
      "outputs": []
    },
    {
      "cell_type": "code",
      "metadata": {
        "id": "zOZ95ZW0nDFT",
        "colab_type": "code",
        "colab": {
          "base_uri": "https://localhost:8080/",
          "height": 557
        },
        "outputId": "82d6cf2f-4e03-4c8f-998c-d2b288b386a0"
      },
      "source": [
        "import matplotlib.pyplot as plt\n",
        "plt.style.use('fivethirtyeight')\n",
        "plt.rcParams['figure.figsize'] = (10,6)\n",
        "%config InlineBackend.figure_formats = ['svg']\n",
        "plt.plot(progress_visualisation_x,progress_visualisation_y,'go--', linewidth=2, markersize=12, label=\"L'avanecement de l'algorithme\")\n",
        "plt.xlabel(\"les générations\")\n",
        "plt.ylabel(\"distance de chemin optimal\\n (km)\")\n",
        "_ = plt.legend(loc='best')"
      ],
      "execution_count": null,
      "outputs": [
        {
          "output_type": "display_data",
          "data": {
            "text/plain": [
              "<Figure size 720x432 with 1 Axes>"
            ],
            "image/svg+xml": "<?xml version=\"1.0\" encoding=\"utf-8\" standalone=\"no\"?>\n<!DOCTYPE svg PUBLIC \"-//W3C//DTD SVG 1.1//EN\"\n  \"http://www.w3.org/Graphics/SVG/1.1/DTD/svg11.dtd\">\n<!-- Created with matplotlib (https://matplotlib.org/) -->\n<svg height=\"402.300625pt\" version=\"1.1\" viewBox=\"0 0 727.909075 402.300625\" width=\"727.909075pt\" xmlns=\"http://www.w3.org/2000/svg\" xmlns:xlink=\"http://www.w3.org/1999/xlink\">\n <defs>\n  <style type=\"text/css\">\n*{stroke-linecap:butt;stroke-linejoin:round;}\n  </style>\n </defs>\n <g id=\"figure_1\">\n  <g id=\"patch_1\">\n   <path d=\"M 0 402.300625 \nL 727.909075 402.300625 \nL 727.909075 0 \nL 0 0 \nz\n\" style=\"fill:#f0f0f0;\"/>\n  </g>\n  <g id=\"axes_1\">\n   <g id=\"patch_2\">\n    <path d=\"M 94.309075 357.12 \nL 720.709075 357.12 \nL 720.709075 7.2 \nL 94.309075 7.2 \nz\n\" style=\"fill:#f0f0f0;\"/>\n   </g>\n   <g id=\"matplotlib.axis_1\">\n    <g id=\"xtick_1\">\n     <g id=\"line2d_1\">\n      <path clip-path=\"url(#p15136c0054)\" d=\"M 122.781802 357.12 \nL 122.781802 7.2 \n\" style=\"fill:none;stroke:#cbcbcb;\"/>\n     </g>\n     <g id=\"line2d_2\"/>\n     <g id=\"text_1\">\n      <!-- 0 -->\n      <defs>\n       <path d=\"M 31.78125 66.40625 \nQ 24.171875 66.40625 20.328125 58.90625 \nQ 16.5 51.421875 16.5 36.375 \nQ 16.5 21.390625 20.328125 13.890625 \nQ 24.171875 6.390625 31.78125 6.390625 \nQ 39.453125 6.390625 43.28125 13.890625 \nQ 47.125 21.390625 47.125 36.375 \nQ 47.125 51.421875 43.28125 58.90625 \nQ 39.453125 66.40625 31.78125 66.40625 \nz\nM 31.78125 74.21875 \nQ 44.046875 74.21875 50.515625 64.515625 \nQ 56.984375 54.828125 56.984375 36.375 \nQ 56.984375 17.96875 50.515625 8.265625 \nQ 44.046875 -1.421875 31.78125 -1.421875 \nQ 19.53125 -1.421875 13.0625 8.265625 \nQ 6.59375 17.96875 6.59375 36.375 \nQ 6.59375 54.828125 13.0625 64.515625 \nQ 19.53125 74.21875 31.78125 74.21875 \nz\n\" id=\"DejaVuSans-48\"/>\n      </defs>\n      <g transform=\"translate(118.328052 371.257813)scale(0.14 -0.14)\">\n       <use xlink:href=\"#DejaVuSans-48\"/>\n      </g>\n     </g>\n    </g>\n    <g id=\"xtick_2\">\n     <g id=\"line2d_3\">\n      <path clip-path=\"url(#p15136c0054)\" d=\"M 236.786716 357.12 \nL 236.786716 7.2 \n\" style=\"fill:none;stroke:#cbcbcb;\"/>\n     </g>\n     <g id=\"line2d_4\"/>\n     <g id=\"text_2\">\n      <!-- 200 -->\n      <defs>\n       <path d=\"M 19.1875 8.296875 \nL 53.609375 8.296875 \nL 53.609375 0 \nL 7.328125 0 \nL 7.328125 8.296875 \nQ 12.9375 14.109375 22.625 23.890625 \nQ 32.328125 33.6875 34.8125 36.53125 \nQ 39.546875 41.84375 41.421875 45.53125 \nQ 43.3125 49.21875 43.3125 52.78125 \nQ 43.3125 58.59375 39.234375 62.25 \nQ 35.15625 65.921875 28.609375 65.921875 \nQ 23.96875 65.921875 18.8125 64.3125 \nQ 13.671875 62.703125 7.8125 59.421875 \nL 7.8125 69.390625 \nQ 13.765625 71.78125 18.9375 73 \nQ 24.125 74.21875 28.421875 74.21875 \nQ 39.75 74.21875 46.484375 68.546875 \nQ 53.21875 62.890625 53.21875 53.421875 \nQ 53.21875 48.921875 51.53125 44.890625 \nQ 49.859375 40.875 45.40625 35.40625 \nQ 44.1875 33.984375 37.640625 27.21875 \nQ 31.109375 20.453125 19.1875 8.296875 \nz\n\" id=\"DejaVuSans-50\"/>\n      </defs>\n      <g transform=\"translate(223.425466 371.257813)scale(0.14 -0.14)\">\n       <use xlink:href=\"#DejaVuSans-50\"/>\n       <use x=\"63.623047\" xlink:href=\"#DejaVuSans-48\"/>\n       <use x=\"127.246094\" xlink:href=\"#DejaVuSans-48\"/>\n      </g>\n     </g>\n    </g>\n    <g id=\"xtick_3\">\n     <g id=\"line2d_5\">\n      <path clip-path=\"url(#p15136c0054)\" d=\"M 350.79163 357.12 \nL 350.79163 7.2 \n\" style=\"fill:none;stroke:#cbcbcb;\"/>\n     </g>\n     <g id=\"line2d_6\"/>\n     <g id=\"text_3\">\n      <!-- 400 -->\n      <defs>\n       <path d=\"M 37.796875 64.3125 \nL 12.890625 25.390625 \nL 37.796875 25.390625 \nz\nM 35.203125 72.90625 \nL 47.609375 72.90625 \nL 47.609375 25.390625 \nL 58.015625 25.390625 \nL 58.015625 17.1875 \nL 47.609375 17.1875 \nL 47.609375 0 \nL 37.796875 0 \nL 37.796875 17.1875 \nL 4.890625 17.1875 \nL 4.890625 26.703125 \nz\n\" id=\"DejaVuSans-52\"/>\n      </defs>\n      <g transform=\"translate(337.43038 371.257813)scale(0.14 -0.14)\">\n       <use xlink:href=\"#DejaVuSans-52\"/>\n       <use x=\"63.623047\" xlink:href=\"#DejaVuSans-48\"/>\n       <use x=\"127.246094\" xlink:href=\"#DejaVuSans-48\"/>\n      </g>\n     </g>\n    </g>\n    <g id=\"xtick_4\">\n     <g id=\"line2d_7\">\n      <path clip-path=\"url(#p15136c0054)\" d=\"M 464.796544 357.12 \nL 464.796544 7.2 \n\" style=\"fill:none;stroke:#cbcbcb;\"/>\n     </g>\n     <g id=\"line2d_8\"/>\n     <g id=\"text_4\">\n      <!-- 600 -->\n      <defs>\n       <path d=\"M 33.015625 40.375 \nQ 26.375 40.375 22.484375 35.828125 \nQ 18.609375 31.296875 18.609375 23.390625 \nQ 18.609375 15.53125 22.484375 10.953125 \nQ 26.375 6.390625 33.015625 6.390625 \nQ 39.65625 6.390625 43.53125 10.953125 \nQ 47.40625 15.53125 47.40625 23.390625 \nQ 47.40625 31.296875 43.53125 35.828125 \nQ 39.65625 40.375 33.015625 40.375 \nz\nM 52.59375 71.296875 \nL 52.59375 62.3125 \nQ 48.875 64.0625 45.09375 64.984375 \nQ 41.3125 65.921875 37.59375 65.921875 \nQ 27.828125 65.921875 22.671875 59.328125 \nQ 17.53125 52.734375 16.796875 39.40625 \nQ 19.671875 43.65625 24.015625 45.921875 \nQ 28.375 48.1875 33.59375 48.1875 \nQ 44.578125 48.1875 50.953125 41.515625 \nQ 57.328125 34.859375 57.328125 23.390625 \nQ 57.328125 12.15625 50.6875 5.359375 \nQ 44.046875 -1.421875 33.015625 -1.421875 \nQ 20.359375 -1.421875 13.671875 8.265625 \nQ 6.984375 17.96875 6.984375 36.375 \nQ 6.984375 53.65625 15.1875 63.9375 \nQ 23.390625 74.21875 37.203125 74.21875 \nQ 40.921875 74.21875 44.703125 73.484375 \nQ 48.484375 72.75 52.59375 71.296875 \nz\n\" id=\"DejaVuSans-54\"/>\n      </defs>\n      <g transform=\"translate(451.435294 371.257813)scale(0.14 -0.14)\">\n       <use xlink:href=\"#DejaVuSans-54\"/>\n       <use x=\"63.623047\" xlink:href=\"#DejaVuSans-48\"/>\n       <use x=\"127.246094\" xlink:href=\"#DejaVuSans-48\"/>\n      </g>\n     </g>\n    </g>\n    <g id=\"xtick_5\">\n     <g id=\"line2d_9\">\n      <path clip-path=\"url(#p15136c0054)\" d=\"M 578.801458 357.12 \nL 578.801458 7.2 \n\" style=\"fill:none;stroke:#cbcbcb;\"/>\n     </g>\n     <g id=\"line2d_10\"/>\n     <g id=\"text_5\">\n      <!-- 800 -->\n      <defs>\n       <path d=\"M 31.78125 34.625 \nQ 24.75 34.625 20.71875 30.859375 \nQ 16.703125 27.09375 16.703125 20.515625 \nQ 16.703125 13.921875 20.71875 10.15625 \nQ 24.75 6.390625 31.78125 6.390625 \nQ 38.8125 6.390625 42.859375 10.171875 \nQ 46.921875 13.96875 46.921875 20.515625 \nQ 46.921875 27.09375 42.890625 30.859375 \nQ 38.875 34.625 31.78125 34.625 \nz\nM 21.921875 38.8125 \nQ 15.578125 40.375 12.03125 44.71875 \nQ 8.5 49.078125 8.5 55.328125 \nQ 8.5 64.0625 14.71875 69.140625 \nQ 20.953125 74.21875 31.78125 74.21875 \nQ 42.671875 74.21875 48.875 69.140625 \nQ 55.078125 64.0625 55.078125 55.328125 \nQ 55.078125 49.078125 51.53125 44.71875 \nQ 48 40.375 41.703125 38.8125 \nQ 48.828125 37.15625 52.796875 32.3125 \nQ 56.78125 27.484375 56.78125 20.515625 \nQ 56.78125 9.90625 50.3125 4.234375 \nQ 43.84375 -1.421875 31.78125 -1.421875 \nQ 19.734375 -1.421875 13.25 4.234375 \nQ 6.78125 9.90625 6.78125 20.515625 \nQ 6.78125 27.484375 10.78125 32.3125 \nQ 14.796875 37.15625 21.921875 38.8125 \nz\nM 18.3125 54.390625 \nQ 18.3125 48.734375 21.84375 45.5625 \nQ 25.390625 42.390625 31.78125 42.390625 \nQ 38.140625 42.390625 41.71875 45.5625 \nQ 45.3125 48.734375 45.3125 54.390625 \nQ 45.3125 60.0625 41.71875 63.234375 \nQ 38.140625 66.40625 31.78125 66.40625 \nQ 25.390625 66.40625 21.84375 63.234375 \nQ 18.3125 60.0625 18.3125 54.390625 \nz\n\" id=\"DejaVuSans-56\"/>\n      </defs>\n      <g transform=\"translate(565.440208 371.257813)scale(0.14 -0.14)\">\n       <use xlink:href=\"#DejaVuSans-56\"/>\n       <use x=\"63.623047\" xlink:href=\"#DejaVuSans-48\"/>\n       <use x=\"127.246094\" xlink:href=\"#DejaVuSans-48\"/>\n      </g>\n     </g>\n    </g>\n    <g id=\"xtick_6\">\n     <g id=\"line2d_11\">\n      <path clip-path=\"url(#p15136c0054)\" d=\"M 692.806372 357.12 \nL 692.806372 7.2 \n\" style=\"fill:none;stroke:#cbcbcb;\"/>\n     </g>\n     <g id=\"line2d_12\"/>\n     <g id=\"text_6\">\n      <!-- 1000 -->\n      <defs>\n       <path d=\"M 12.40625 8.296875 \nL 28.515625 8.296875 \nL 28.515625 63.921875 \nL 10.984375 60.40625 \nL 10.984375 69.390625 \nL 28.421875 72.90625 \nL 38.28125 72.90625 \nL 38.28125 8.296875 \nL 54.390625 8.296875 \nL 54.390625 0 \nL 12.40625 0 \nz\n\" id=\"DejaVuSans-49\"/>\n      </defs>\n      <g transform=\"translate(674.991372 371.257813)scale(0.14 -0.14)\">\n       <use xlink:href=\"#DejaVuSans-49\"/>\n       <use x=\"63.623047\" xlink:href=\"#DejaVuSans-48\"/>\n       <use x=\"127.246094\" xlink:href=\"#DejaVuSans-48\"/>\n       <use x=\"190.869141\" xlink:href=\"#DejaVuSans-48\"/>\n      </g>\n     </g>\n    </g>\n    <g id=\"text_7\">\n     <!-- les générations -->\n     <defs>\n      <path d=\"M 9.421875 75.984375 \nL 18.40625 75.984375 \nL 18.40625 0 \nL 9.421875 0 \nz\n\" id=\"DejaVuSans-108\"/>\n      <path d=\"M 56.203125 29.59375 \nL 56.203125 25.203125 \nL 14.890625 25.203125 \nQ 15.484375 15.921875 20.484375 11.0625 \nQ 25.484375 6.203125 34.421875 6.203125 \nQ 39.59375 6.203125 44.453125 7.46875 \nQ 49.3125 8.734375 54.109375 11.28125 \nL 54.109375 2.78125 \nQ 49.265625 0.734375 44.1875 -0.34375 \nQ 39.109375 -1.421875 33.890625 -1.421875 \nQ 20.796875 -1.421875 13.15625 6.1875 \nQ 5.515625 13.8125 5.515625 26.8125 \nQ 5.515625 40.234375 12.765625 48.109375 \nQ 20.015625 56 32.328125 56 \nQ 43.359375 56 49.78125 48.890625 \nQ 56.203125 41.796875 56.203125 29.59375 \nz\nM 47.21875 32.234375 \nQ 47.125 39.59375 43.09375 43.984375 \nQ 39.0625 48.390625 32.421875 48.390625 \nQ 24.90625 48.390625 20.390625 44.140625 \nQ 15.875 39.890625 15.1875 32.171875 \nz\n\" id=\"DejaVuSans-101\"/>\n      <path d=\"M 44.28125 53.078125 \nL 44.28125 44.578125 \nQ 40.484375 46.53125 36.375 47.5 \nQ 32.28125 48.484375 27.875 48.484375 \nQ 21.1875 48.484375 17.84375 46.4375 \nQ 14.5 44.390625 14.5 40.28125 \nQ 14.5 37.15625 16.890625 35.375 \nQ 19.28125 33.59375 26.515625 31.984375 \nL 29.59375 31.296875 \nQ 39.15625 29.25 43.1875 25.515625 \nQ 47.21875 21.78125 47.21875 15.09375 \nQ 47.21875 7.46875 41.1875 3.015625 \nQ 35.15625 -1.421875 24.609375 -1.421875 \nQ 20.21875 -1.421875 15.453125 -0.5625 \nQ 10.6875 0.296875 5.421875 2 \nL 5.421875 11.28125 \nQ 10.40625 8.6875 15.234375 7.390625 \nQ 20.0625 6.109375 24.8125 6.109375 \nQ 31.15625 6.109375 34.5625 8.28125 \nQ 37.984375 10.453125 37.984375 14.40625 \nQ 37.984375 18.0625 35.515625 20.015625 \nQ 33.0625 21.96875 24.703125 23.78125 \nL 21.578125 24.515625 \nQ 13.234375 26.265625 9.515625 29.90625 \nQ 5.8125 33.546875 5.8125 39.890625 \nQ 5.8125 47.609375 11.28125 51.796875 \nQ 16.75 56 26.8125 56 \nQ 31.78125 56 36.171875 55.265625 \nQ 40.578125 54.546875 44.28125 53.078125 \nz\n\" id=\"DejaVuSans-115\"/>\n      <path id=\"DejaVuSans-32\"/>\n      <path d=\"M 45.40625 27.984375 \nQ 45.40625 37.75 41.375 43.109375 \nQ 37.359375 48.484375 30.078125 48.484375 \nQ 22.859375 48.484375 18.828125 43.109375 \nQ 14.796875 37.75 14.796875 27.984375 \nQ 14.796875 18.265625 18.828125 12.890625 \nQ 22.859375 7.515625 30.078125 7.515625 \nQ 37.359375 7.515625 41.375 12.890625 \nQ 45.40625 18.265625 45.40625 27.984375 \nz\nM 54.390625 6.78125 \nQ 54.390625 -7.171875 48.1875 -13.984375 \nQ 42 -20.796875 29.203125 -20.796875 \nQ 24.46875 -20.796875 20.265625 -20.09375 \nQ 16.0625 -19.390625 12.109375 -17.921875 \nL 12.109375 -9.1875 \nQ 16.0625 -11.328125 19.921875 -12.34375 \nQ 23.78125 -13.375 27.78125 -13.375 \nQ 36.625 -13.375 41.015625 -8.765625 \nQ 45.40625 -4.15625 45.40625 5.171875 \nL 45.40625 9.625 \nQ 42.625 4.78125 38.28125 2.390625 \nQ 33.9375 0 27.875 0 \nQ 17.828125 0 11.671875 7.65625 \nQ 5.515625 15.328125 5.515625 27.984375 \nQ 5.515625 40.671875 11.671875 48.328125 \nQ 17.828125 56 27.875 56 \nQ 33.9375 56 38.28125 53.609375 \nQ 42.625 51.21875 45.40625 46.390625 \nL 45.40625 54.6875 \nL 54.390625 54.6875 \nz\n\" id=\"DejaVuSans-103\"/>\n      <path d=\"M 56.203125 29.59375 \nL 56.203125 25.203125 \nL 14.890625 25.203125 \nQ 15.484375 15.921875 20.484375 11.0625 \nQ 25.484375 6.203125 34.421875 6.203125 \nQ 39.59375 6.203125 44.453125 7.46875 \nQ 49.3125 8.734375 54.109375 11.28125 \nL 54.109375 2.78125 \nQ 49.265625 0.734375 44.1875 -0.34375 \nQ 39.109375 -1.421875 33.890625 -1.421875 \nQ 20.796875 -1.421875 13.15625 6.1875 \nQ 5.515625 13.8125 5.515625 26.8125 \nQ 5.515625 40.234375 12.765625 48.109375 \nQ 20.015625 56 32.328125 56 \nQ 43.359375 56 49.78125 48.890625 \nQ 56.203125 41.796875 56.203125 29.59375 \nz\nM 47.21875 32.234375 \nQ 47.125 39.59375 43.09375 43.984375 \nQ 39.0625 48.390625 32.421875 48.390625 \nQ 24.90625 48.390625 20.390625 44.140625 \nQ 15.875 39.890625 15.1875 32.171875 \nz\nM 38.53125 79.984375 \nL 48.25 79.984375 \nL 32.34375 61.625 \nL 24.859375 61.625 \nz\n\" id=\"DejaVuSans-233\"/>\n      <path d=\"M 54.890625 33.015625 \nL 54.890625 0 \nL 45.90625 0 \nL 45.90625 32.71875 \nQ 45.90625 40.484375 42.875 44.328125 \nQ 39.84375 48.1875 33.796875 48.1875 \nQ 26.515625 48.1875 22.3125 43.546875 \nQ 18.109375 38.921875 18.109375 30.90625 \nL 18.109375 0 \nL 9.078125 0 \nL 9.078125 54.6875 \nL 18.109375 54.6875 \nL 18.109375 46.1875 \nQ 21.34375 51.125 25.703125 53.5625 \nQ 30.078125 56 35.796875 56 \nQ 45.21875 56 50.046875 50.171875 \nQ 54.890625 44.34375 54.890625 33.015625 \nz\n\" id=\"DejaVuSans-110\"/>\n      <path d=\"M 41.109375 46.296875 \nQ 39.59375 47.171875 37.8125 47.578125 \nQ 36.03125 48 33.890625 48 \nQ 26.265625 48 22.1875 43.046875 \nQ 18.109375 38.09375 18.109375 28.8125 \nL 18.109375 0 \nL 9.078125 0 \nL 9.078125 54.6875 \nL 18.109375 54.6875 \nL 18.109375 46.1875 \nQ 20.953125 51.171875 25.484375 53.578125 \nQ 30.03125 56 36.53125 56 \nQ 37.453125 56 38.578125 55.875 \nQ 39.703125 55.765625 41.0625 55.515625 \nz\n\" id=\"DejaVuSans-114\"/>\n      <path d=\"M 34.28125 27.484375 \nQ 23.390625 27.484375 19.1875 25 \nQ 14.984375 22.515625 14.984375 16.5 \nQ 14.984375 11.71875 18.140625 8.90625 \nQ 21.296875 6.109375 26.703125 6.109375 \nQ 34.1875 6.109375 38.703125 11.40625 \nQ 43.21875 16.703125 43.21875 25.484375 \nL 43.21875 27.484375 \nz\nM 52.203125 31.203125 \nL 52.203125 0 \nL 43.21875 0 \nL 43.21875 8.296875 \nQ 40.140625 3.328125 35.546875 0.953125 \nQ 30.953125 -1.421875 24.3125 -1.421875 \nQ 15.921875 -1.421875 10.953125 3.296875 \nQ 6 8.015625 6 15.921875 \nQ 6 25.140625 12.171875 29.828125 \nQ 18.359375 34.515625 30.609375 34.515625 \nL 43.21875 34.515625 \nL 43.21875 35.40625 \nQ 43.21875 41.609375 39.140625 45 \nQ 35.0625 48.390625 27.6875 48.390625 \nQ 23 48.390625 18.546875 47.265625 \nQ 14.109375 46.140625 10.015625 43.890625 \nL 10.015625 52.203125 \nQ 14.9375 54.109375 19.578125 55.046875 \nQ 24.21875 56 28.609375 56 \nQ 40.484375 56 46.34375 49.84375 \nQ 52.203125 43.703125 52.203125 31.203125 \nz\n\" id=\"DejaVuSans-97\"/>\n      <path d=\"M 18.3125 70.21875 \nL 18.3125 54.6875 \nL 36.8125 54.6875 \nL 36.8125 47.703125 \nL 18.3125 47.703125 \nL 18.3125 18.015625 \nQ 18.3125 11.328125 20.140625 9.421875 \nQ 21.96875 7.515625 27.59375 7.515625 \nL 36.8125 7.515625 \nL 36.8125 0 \nL 27.59375 0 \nQ 17.1875 0 13.234375 3.875 \nQ 9.28125 7.765625 9.28125 18.015625 \nL 9.28125 47.703125 \nL 2.6875 47.703125 \nL 2.6875 54.6875 \nL 9.28125 54.6875 \nL 9.28125 70.21875 \nz\n\" id=\"DejaVuSans-116\"/>\n      <path d=\"M 9.421875 54.6875 \nL 18.40625 54.6875 \nL 18.40625 0 \nL 9.421875 0 \nz\nM 9.421875 75.984375 \nL 18.40625 75.984375 \nL 18.40625 64.59375 \nL 9.421875 64.59375 \nz\n\" id=\"DejaVuSans-105\"/>\n      <path d=\"M 30.609375 48.390625 \nQ 23.390625 48.390625 19.1875 42.75 \nQ 14.984375 37.109375 14.984375 27.296875 \nQ 14.984375 17.484375 19.15625 11.84375 \nQ 23.34375 6.203125 30.609375 6.203125 \nQ 37.796875 6.203125 41.984375 11.859375 \nQ 46.1875 17.53125 46.1875 27.296875 \nQ 46.1875 37.015625 41.984375 42.703125 \nQ 37.796875 48.390625 30.609375 48.390625 \nz\nM 30.609375 56 \nQ 42.328125 56 49.015625 48.375 \nQ 55.71875 40.765625 55.71875 27.296875 \nQ 55.71875 13.875 49.015625 6.21875 \nQ 42.328125 -1.421875 30.609375 -1.421875 \nQ 18.84375 -1.421875 12.171875 6.21875 \nQ 5.515625 13.875 5.515625 27.296875 \nQ 5.515625 40.765625 12.171875 48.375 \nQ 18.84375 56 30.609375 56 \nz\n\" id=\"DejaVuSans-111\"/>\n     </defs>\n     <g transform=\"translate(342.901262 391.60675)scale(0.168 -0.168)\">\n      <use xlink:href=\"#DejaVuSans-108\"/>\n      <use x=\"27.783203\" xlink:href=\"#DejaVuSans-101\"/>\n      <use x=\"89.306641\" xlink:href=\"#DejaVuSans-115\"/>\n      <use x=\"141.40625\" xlink:href=\"#DejaVuSans-32\"/>\n      <use x=\"173.193359\" xlink:href=\"#DejaVuSans-103\"/>\n      <use x=\"236.669922\" xlink:href=\"#DejaVuSans-233\"/>\n      <use x=\"298.193359\" xlink:href=\"#DejaVuSans-110\"/>\n      <use x=\"361.572266\" xlink:href=\"#DejaVuSans-233\"/>\n      <use x=\"423.095703\" xlink:href=\"#DejaVuSans-114\"/>\n      <use x=\"464.208984\" xlink:href=\"#DejaVuSans-97\"/>\n      <use x=\"525.488281\" xlink:href=\"#DejaVuSans-116\"/>\n      <use x=\"564.697266\" xlink:href=\"#DejaVuSans-105\"/>\n      <use x=\"592.480469\" xlink:href=\"#DejaVuSans-111\"/>\n      <use x=\"653.662109\" xlink:href=\"#DejaVuSans-110\"/>\n      <use x=\"717.041016\" xlink:href=\"#DejaVuSans-115\"/>\n     </g>\n    </g>\n   </g>\n   <g id=\"matplotlib.axis_2\">\n    <g id=\"ytick_1\">\n     <g id=\"line2d_13\">\n      <path clip-path=\"url(#p15136c0054)\" d=\"M 94.309075 330.59517 \nL 720.709075 330.59517 \n\" style=\"fill:none;stroke:#cbcbcb;\"/>\n     </g>\n     <g id=\"line2d_14\"/>\n     <g id=\"text_8\">\n      <!-- 8000 -->\n      <g transform=\"translate(55.179075 335.914077)scale(0.14 -0.14)\">\n       <use xlink:href=\"#DejaVuSans-56\"/>\n       <use x=\"63.623047\" xlink:href=\"#DejaVuSans-48\"/>\n       <use x=\"127.246094\" xlink:href=\"#DejaVuSans-48\"/>\n       <use x=\"190.869141\" xlink:href=\"#DejaVuSans-48\"/>\n      </g>\n     </g>\n    </g>\n    <g id=\"ytick_2\">\n     <g id=\"line2d_15\">\n      <path clip-path=\"url(#p15136c0054)\" d=\"M 94.309075 286.501093 \nL 720.709075 286.501093 \n\" style=\"fill:none;stroke:#cbcbcb;\"/>\n     </g>\n     <g id=\"line2d_16\"/>\n     <g id=\"text_9\">\n      <!-- 10000 -->\n      <g transform=\"translate(46.271575 291.82)scale(0.14 -0.14)\">\n       <use xlink:href=\"#DejaVuSans-49\"/>\n       <use x=\"63.623047\" xlink:href=\"#DejaVuSans-48\"/>\n       <use x=\"127.246094\" xlink:href=\"#DejaVuSans-48\"/>\n       <use x=\"190.869141\" xlink:href=\"#DejaVuSans-48\"/>\n       <use x=\"254.492188\" xlink:href=\"#DejaVuSans-48\"/>\n      </g>\n     </g>\n    </g>\n    <g id=\"ytick_3\">\n     <g id=\"line2d_17\">\n      <path clip-path=\"url(#p15136c0054)\" d=\"M 94.309075 242.407016 \nL 720.709075 242.407016 \n\" style=\"fill:none;stroke:#cbcbcb;\"/>\n     </g>\n     <g id=\"line2d_18\"/>\n     <g id=\"text_10\">\n      <!-- 12000 -->\n      <g transform=\"translate(46.271575 247.725923)scale(0.14 -0.14)\">\n       <use xlink:href=\"#DejaVuSans-49\"/>\n       <use x=\"63.623047\" xlink:href=\"#DejaVuSans-50\"/>\n       <use x=\"127.246094\" xlink:href=\"#DejaVuSans-48\"/>\n       <use x=\"190.869141\" xlink:href=\"#DejaVuSans-48\"/>\n       <use x=\"254.492188\" xlink:href=\"#DejaVuSans-48\"/>\n      </g>\n     </g>\n    </g>\n    <g id=\"ytick_4\">\n     <g id=\"line2d_19\">\n      <path clip-path=\"url(#p15136c0054)\" d=\"M 94.309075 198.312939 \nL 720.709075 198.312939 \n\" style=\"fill:none;stroke:#cbcbcb;\"/>\n     </g>\n     <g id=\"line2d_20\"/>\n     <g id=\"text_11\">\n      <!-- 14000 -->\n      <g transform=\"translate(46.271575 203.631845)scale(0.14 -0.14)\">\n       <use xlink:href=\"#DejaVuSans-49\"/>\n       <use x=\"63.623047\" xlink:href=\"#DejaVuSans-52\"/>\n       <use x=\"127.246094\" xlink:href=\"#DejaVuSans-48\"/>\n       <use x=\"190.869141\" xlink:href=\"#DejaVuSans-48\"/>\n       <use x=\"254.492188\" xlink:href=\"#DejaVuSans-48\"/>\n      </g>\n     </g>\n    </g>\n    <g id=\"ytick_5\">\n     <g id=\"line2d_21\">\n      <path clip-path=\"url(#p15136c0054)\" d=\"M 94.309075 154.218862 \nL 720.709075 154.218862 \n\" style=\"fill:none;stroke:#cbcbcb;\"/>\n     </g>\n     <g id=\"line2d_22\"/>\n     <g id=\"text_12\">\n      <!-- 16000 -->\n      <g transform=\"translate(46.271575 159.537768)scale(0.14 -0.14)\">\n       <use xlink:href=\"#DejaVuSans-49\"/>\n       <use x=\"63.623047\" xlink:href=\"#DejaVuSans-54\"/>\n       <use x=\"127.246094\" xlink:href=\"#DejaVuSans-48\"/>\n       <use x=\"190.869141\" xlink:href=\"#DejaVuSans-48\"/>\n       <use x=\"254.492188\" xlink:href=\"#DejaVuSans-48\"/>\n      </g>\n     </g>\n    </g>\n    <g id=\"ytick_6\">\n     <g id=\"line2d_23\">\n      <path clip-path=\"url(#p15136c0054)\" d=\"M 94.309075 110.124785 \nL 720.709075 110.124785 \n\" style=\"fill:none;stroke:#cbcbcb;\"/>\n     </g>\n     <g id=\"line2d_24\"/>\n     <g id=\"text_13\">\n      <!-- 18000 -->\n      <g transform=\"translate(46.271575 115.443691)scale(0.14 -0.14)\">\n       <use xlink:href=\"#DejaVuSans-49\"/>\n       <use x=\"63.623047\" xlink:href=\"#DejaVuSans-56\"/>\n       <use x=\"127.246094\" xlink:href=\"#DejaVuSans-48\"/>\n       <use x=\"190.869141\" xlink:href=\"#DejaVuSans-48\"/>\n       <use x=\"254.492188\" xlink:href=\"#DejaVuSans-48\"/>\n      </g>\n     </g>\n    </g>\n    <g id=\"ytick_7\">\n     <g id=\"line2d_25\">\n      <path clip-path=\"url(#p15136c0054)\" d=\"M 94.309075 66.030708 \nL 720.709075 66.030708 \n\" style=\"fill:none;stroke:#cbcbcb;\"/>\n     </g>\n     <g id=\"line2d_26\"/>\n     <g id=\"text_14\">\n      <!-- 20000 -->\n      <g transform=\"translate(46.271575 71.349614)scale(0.14 -0.14)\">\n       <use xlink:href=\"#DejaVuSans-50\"/>\n       <use x=\"63.623047\" xlink:href=\"#DejaVuSans-48\"/>\n       <use x=\"127.246094\" xlink:href=\"#DejaVuSans-48\"/>\n       <use x=\"190.869141\" xlink:href=\"#DejaVuSans-48\"/>\n       <use x=\"254.492188\" xlink:href=\"#DejaVuSans-48\"/>\n      </g>\n     </g>\n    </g>\n    <g id=\"ytick_8\">\n     <g id=\"line2d_27\">\n      <path clip-path=\"url(#p15136c0054)\" d=\"M 94.309075 21.936631 \nL 720.709075 21.936631 \n\" style=\"fill:none;stroke:#cbcbcb;\"/>\n     </g>\n     <g id=\"line2d_28\"/>\n     <g id=\"text_15\">\n      <!-- 22000 -->\n      <g transform=\"translate(46.271575 27.255537)scale(0.14 -0.14)\">\n       <use xlink:href=\"#DejaVuSans-50\"/>\n       <use x=\"63.623047\" xlink:href=\"#DejaVuSans-50\"/>\n       <use x=\"127.246094\" xlink:href=\"#DejaVuSans-48\"/>\n       <use x=\"190.869141\" xlink:href=\"#DejaVuSans-48\"/>\n       <use x=\"254.492188\" xlink:href=\"#DejaVuSans-48\"/>\n      </g>\n     </g>\n    </g>\n    <g id=\"text_16\">\n     <!-- distance de chemin optimal -->\n     <defs>\n      <path d=\"M 45.40625 46.390625 \nL 45.40625 75.984375 \nL 54.390625 75.984375 \nL 54.390625 0 \nL 45.40625 0 \nL 45.40625 8.203125 \nQ 42.578125 3.328125 38.25 0.953125 \nQ 33.9375 -1.421875 27.875 -1.421875 \nQ 17.96875 -1.421875 11.734375 6.484375 \nQ 5.515625 14.40625 5.515625 27.296875 \nQ 5.515625 40.1875 11.734375 48.09375 \nQ 17.96875 56 27.875 56 \nQ 33.9375 56 38.25 53.625 \nQ 42.578125 51.265625 45.40625 46.390625 \nz\nM 14.796875 27.296875 \nQ 14.796875 17.390625 18.875 11.75 \nQ 22.953125 6.109375 30.078125 6.109375 \nQ 37.203125 6.109375 41.296875 11.75 \nQ 45.40625 17.390625 45.40625 27.296875 \nQ 45.40625 37.203125 41.296875 42.84375 \nQ 37.203125 48.484375 30.078125 48.484375 \nQ 22.953125 48.484375 18.875 42.84375 \nQ 14.796875 37.203125 14.796875 27.296875 \nz\n\" id=\"DejaVuSans-100\"/>\n      <path d=\"M 48.78125 52.59375 \nL 48.78125 44.1875 \nQ 44.96875 46.296875 41.140625 47.34375 \nQ 37.3125 48.390625 33.40625 48.390625 \nQ 24.65625 48.390625 19.8125 42.84375 \nQ 14.984375 37.3125 14.984375 27.296875 \nQ 14.984375 17.28125 19.8125 11.734375 \nQ 24.65625 6.203125 33.40625 6.203125 \nQ 37.3125 6.203125 41.140625 7.25 \nQ 44.96875 8.296875 48.78125 10.40625 \nL 48.78125 2.09375 \nQ 45.015625 0.34375 40.984375 -0.53125 \nQ 36.96875 -1.421875 32.421875 -1.421875 \nQ 20.0625 -1.421875 12.78125 6.34375 \nQ 5.515625 14.109375 5.515625 27.296875 \nQ 5.515625 40.671875 12.859375 48.328125 \nQ 20.21875 56 33.015625 56 \nQ 37.15625 56 41.109375 55.140625 \nQ 45.0625 54.296875 48.78125 52.59375 \nz\n\" id=\"DejaVuSans-99\"/>\n      <path d=\"M 54.890625 33.015625 \nL 54.890625 0 \nL 45.90625 0 \nL 45.90625 32.71875 \nQ 45.90625 40.484375 42.875 44.328125 \nQ 39.84375 48.1875 33.796875 48.1875 \nQ 26.515625 48.1875 22.3125 43.546875 \nQ 18.109375 38.921875 18.109375 30.90625 \nL 18.109375 0 \nL 9.078125 0 \nL 9.078125 75.984375 \nL 18.109375 75.984375 \nL 18.109375 46.1875 \nQ 21.34375 51.125 25.703125 53.5625 \nQ 30.078125 56 35.796875 56 \nQ 45.21875 56 50.046875 50.171875 \nQ 54.890625 44.34375 54.890625 33.015625 \nz\n\" id=\"DejaVuSans-104\"/>\n      <path d=\"M 52 44.1875 \nQ 55.375 50.25 60.0625 53.125 \nQ 64.75 56 71.09375 56 \nQ 79.640625 56 84.28125 50.015625 \nQ 88.921875 44.046875 88.921875 33.015625 \nL 88.921875 0 \nL 79.890625 0 \nL 79.890625 32.71875 \nQ 79.890625 40.578125 77.09375 44.375 \nQ 74.3125 48.1875 68.609375 48.1875 \nQ 61.625 48.1875 57.5625 43.546875 \nQ 53.515625 38.921875 53.515625 30.90625 \nL 53.515625 0 \nL 44.484375 0 \nL 44.484375 32.71875 \nQ 44.484375 40.625 41.703125 44.40625 \nQ 38.921875 48.1875 33.109375 48.1875 \nQ 26.21875 48.1875 22.15625 43.53125 \nQ 18.109375 38.875 18.109375 30.90625 \nL 18.109375 0 \nL 9.078125 0 \nL 9.078125 54.6875 \nL 18.109375 54.6875 \nL 18.109375 46.1875 \nQ 21.1875 51.21875 25.484375 53.609375 \nQ 29.78125 56 35.6875 56 \nQ 41.65625 56 45.828125 52.96875 \nQ 50 49.953125 52 44.1875 \nz\n\" id=\"DejaVuSans-109\"/>\n      <path d=\"M 18.109375 8.203125 \nL 18.109375 -20.796875 \nL 9.078125 -20.796875 \nL 9.078125 54.6875 \nL 18.109375 54.6875 \nL 18.109375 46.390625 \nQ 20.953125 51.265625 25.265625 53.625 \nQ 29.59375 56 35.59375 56 \nQ 45.5625 56 51.78125 48.09375 \nQ 58.015625 40.1875 58.015625 27.296875 \nQ 58.015625 14.40625 51.78125 6.484375 \nQ 45.5625 -1.421875 35.59375 -1.421875 \nQ 29.59375 -1.421875 25.265625 0.953125 \nQ 20.953125 3.328125 18.109375 8.203125 \nz\nM 48.6875 27.296875 \nQ 48.6875 37.203125 44.609375 42.84375 \nQ 40.53125 48.484375 33.40625 48.484375 \nQ 26.265625 48.484375 22.1875 42.84375 \nQ 18.109375 37.203125 18.109375 27.296875 \nQ 18.109375 17.390625 22.1875 11.75 \nQ 26.265625 6.109375 33.40625 6.109375 \nQ 40.53125 6.109375 44.609375 11.75 \nQ 48.6875 17.390625 48.6875 27.296875 \nz\n\" id=\"DejaVuSans-112\"/>\n     </defs>\n     <g transform=\"translate(19.965375 298.976438)rotate(-90)scale(0.168 -0.168)\">\n      <use xlink:href=\"#DejaVuSans-100\"/>\n      <use x=\"63.476562\" xlink:href=\"#DejaVuSans-105\"/>\n      <use x=\"91.259766\" xlink:href=\"#DejaVuSans-115\"/>\n      <use x=\"143.359375\" xlink:href=\"#DejaVuSans-116\"/>\n      <use x=\"182.568359\" xlink:href=\"#DejaVuSans-97\"/>\n      <use x=\"243.847656\" xlink:href=\"#DejaVuSans-110\"/>\n      <use x=\"307.226562\" xlink:href=\"#DejaVuSans-99\"/>\n      <use x=\"362.207031\" xlink:href=\"#DejaVuSans-101\"/>\n      <use x=\"423.730469\" xlink:href=\"#DejaVuSans-32\"/>\n      <use x=\"455.517578\" xlink:href=\"#DejaVuSans-100\"/>\n      <use x=\"518.994141\" xlink:href=\"#DejaVuSans-101\"/>\n      <use x=\"580.517578\" xlink:href=\"#DejaVuSans-32\"/>\n      <use x=\"612.304688\" xlink:href=\"#DejaVuSans-99\"/>\n      <use x=\"667.285156\" xlink:href=\"#DejaVuSans-104\"/>\n      <use x=\"730.664062\" xlink:href=\"#DejaVuSans-101\"/>\n      <use x=\"792.1875\" xlink:href=\"#DejaVuSans-109\"/>\n      <use x=\"889.599609\" xlink:href=\"#DejaVuSans-105\"/>\n      <use x=\"917.382812\" xlink:href=\"#DejaVuSans-110\"/>\n      <use x=\"980.761719\" xlink:href=\"#DejaVuSans-32\"/>\n      <use x=\"1012.548828\" xlink:href=\"#DejaVuSans-111\"/>\n      <use x=\"1073.730469\" xlink:href=\"#DejaVuSans-112\"/>\n      <use x=\"1137.207031\" xlink:href=\"#DejaVuSans-116\"/>\n      <use x=\"1176.416016\" xlink:href=\"#DejaVuSans-105\"/>\n      <use x=\"1204.199219\" xlink:href=\"#DejaVuSans-109\"/>\n      <use x=\"1301.611328\" xlink:href=\"#DejaVuSans-97\"/>\n      <use x=\"1362.890625\" xlink:href=\"#DejaVuSans-108\"/>\n     </g>\n     <!--  (km) -->\n     <defs>\n      <path d=\"M 31 75.875 \nQ 24.46875 64.65625 21.28125 53.65625 \nQ 18.109375 42.671875 18.109375 31.390625 \nQ 18.109375 20.125 21.3125 9.0625 \nQ 24.515625 -2 31 -13.1875 \nL 23.1875 -13.1875 \nQ 15.875 -1.703125 12.234375 9.375 \nQ 8.59375 20.453125 8.59375 31.390625 \nQ 8.59375 42.28125 12.203125 53.3125 \nQ 15.828125 64.359375 23.1875 75.875 \nz\n\" id=\"DejaVuSans-40\"/>\n      <path d=\"M 9.078125 75.984375 \nL 18.109375 75.984375 \nL 18.109375 31.109375 \nL 44.921875 54.6875 \nL 56.390625 54.6875 \nL 27.390625 29.109375 \nL 57.625 0 \nL 45.90625 0 \nL 18.109375 26.703125 \nL 18.109375 0 \nL 9.078125 0 \nz\n\" id=\"DejaVuSans-107\"/>\n      <path d=\"M 8.015625 75.875 \nL 15.828125 75.875 \nQ 23.140625 64.359375 26.78125 53.3125 \nQ 30.421875 42.28125 30.421875 31.390625 \nQ 30.421875 20.453125 26.78125 9.375 \nQ 23.140625 -1.703125 15.828125 -13.1875 \nL 8.015625 -13.1875 \nQ 14.5 -2 17.703125 9.0625 \nQ 20.90625 20.125 20.90625 31.390625 \nQ 20.90625 42.671875 17.703125 53.65625 \nQ 14.5 64.65625 8.015625 75.875 \nz\n\" id=\"DejaVuSans-41\"/>\n     </defs>\n     <g transform=\"translate(38.7777 204.4305)rotate(-90)scale(0.168 -0.168)\">\n      <use xlink:href=\"#DejaVuSans-32\"/>\n      <use x=\"31.787109\" xlink:href=\"#DejaVuSans-40\"/>\n      <use x=\"70.800781\" xlink:href=\"#DejaVuSans-107\"/>\n      <use x=\"128.710938\" xlink:href=\"#DejaVuSans-109\"/>\n      <use x=\"226.123047\" xlink:href=\"#DejaVuSans-41\"/>\n     </g>\n    </g>\n   </g>\n   <g id=\"line2d_29\">\n    <path clip-path=\"url(#p15136c0054)\" d=\"M 122.781802 23.105455 \nL 179.784259 323.749984 \nL 236.786716 330.755563 \nL 293.789173 336.337123 \nL 350.79163 337.640897 \nL 407.794087 340.193657 \nL 464.796544 341.214193 \nL 521.799001 341.214545 \nL 578.801458 341.214545 \nL 635.803915 341.214545 \nL 692.236348 341.214545 \n\" style=\"fill:none;stroke:#008000;stroke-dasharray:7.4,3.2;stroke-dashoffset:0;stroke-width:2;\"/>\n    <defs>\n     <path d=\"M 0 6 \nC 1.591219 6 3.117479 5.367802 4.242641 4.242641 \nC 5.367802 3.117479 6 1.591219 6 0 \nC 6 -1.591219 5.367802 -3.117479 4.242641 -4.242641 \nC 3.117479 -5.367802 1.591219 -6 0 -6 \nC -1.591219 -6 -3.117479 -5.367802 -4.242641 -4.242641 \nC -5.367802 -3.117479 -6 -1.591219 -6 0 \nC -6 1.591219 -5.367802 3.117479 -4.242641 4.242641 \nC -3.117479 5.367802 -1.591219 6 0 6 \nz\n\" id=\"m325b1a9a95\" style=\"stroke:#008000;\"/>\n    </defs>\n    <g clip-path=\"url(#p15136c0054)\">\n     <use style=\"fill:#008000;stroke:#008000;\" x=\"122.781802\" xlink:href=\"#m325b1a9a95\" y=\"23.105455\"/>\n     <use style=\"fill:#008000;stroke:#008000;\" x=\"179.784259\" xlink:href=\"#m325b1a9a95\" y=\"323.749984\"/>\n     <use style=\"fill:#008000;stroke:#008000;\" x=\"236.786716\" xlink:href=\"#m325b1a9a95\" y=\"330.755563\"/>\n     <use style=\"fill:#008000;stroke:#008000;\" x=\"293.789173\" xlink:href=\"#m325b1a9a95\" y=\"336.337123\"/>\n     <use style=\"fill:#008000;stroke:#008000;\" x=\"350.79163\" xlink:href=\"#m325b1a9a95\" y=\"337.640897\"/>\n     <use style=\"fill:#008000;stroke:#008000;\" x=\"407.794087\" xlink:href=\"#m325b1a9a95\" y=\"340.193657\"/>\n     <use style=\"fill:#008000;stroke:#008000;\" x=\"464.796544\" xlink:href=\"#m325b1a9a95\" y=\"341.214193\"/>\n     <use style=\"fill:#008000;stroke:#008000;\" x=\"521.799001\" xlink:href=\"#m325b1a9a95\" y=\"341.214545\"/>\n     <use style=\"fill:#008000;stroke:#008000;\" x=\"578.801458\" xlink:href=\"#m325b1a9a95\" y=\"341.214545\"/>\n     <use style=\"fill:#008000;stroke:#008000;\" x=\"635.803915\" xlink:href=\"#m325b1a9a95\" y=\"341.214545\"/>\n     <use style=\"fill:#008000;stroke:#008000;\" x=\"692.236348\" xlink:href=\"#m325b1a9a95\" y=\"341.214545\"/>\n    </g>\n   </g>\n   <g id=\"patch_3\">\n    <path d=\"M 94.309075 357.12 \nL 94.309075 7.2 \n\" style=\"fill:none;stroke:#f0f0f0;stroke-linecap:square;stroke-linejoin:miter;stroke-width:3;\"/>\n   </g>\n   <g id=\"patch_4\">\n    <path d=\"M 720.709075 357.12 \nL 720.709075 7.2 \n\" style=\"fill:none;stroke:#f0f0f0;stroke-linecap:square;stroke-linejoin:miter;stroke-width:3;\"/>\n   </g>\n   <g id=\"patch_5\">\n    <path d=\"M 94.309075 357.12 \nL 720.709075 357.12 \n\" style=\"fill:none;stroke:#f0f0f0;stroke-linecap:square;stroke-linejoin:miter;stroke-width:3;\"/>\n   </g>\n   <g id=\"patch_6\">\n    <path d=\"M 94.309075 7.2 \nL 720.709075 7.2 \n\" style=\"fill:none;stroke:#f0f0f0;stroke-linecap:square;stroke-linejoin:miter;stroke-width:3;\"/>\n   </g>\n   <g id=\"legend_1\">\n    <g id=\"patch_7\">\n     <path d=\"M 448.286575 38.949375 \nL 710.909075 38.949375 \nQ 713.709075 38.949375 713.709075 36.149375 \nL 713.709075 17 \nQ 713.709075 14.2 710.909075 14.2 \nL 448.286575 14.2 \nQ 445.486575 14.2 445.486575 17 \nL 445.486575 36.149375 \nQ 445.486575 38.949375 448.286575 38.949375 \nz\n\" style=\"fill:#f0f0f0;opacity:0.8;stroke:#cccccc;stroke-linejoin:miter;stroke-width:0.5;\"/>\n    </g>\n    <g id=\"line2d_30\">\n     <path d=\"M 451.086575 25.537813 \nL 479.086575 25.537813 \n\" style=\"fill:none;stroke:#008000;stroke-dasharray:7.4,3.2;stroke-dashoffset:0;stroke-width:2;\"/>\n    </g>\n    <g id=\"line2d_31\">\n     <g>\n      <use style=\"fill:#008000;stroke:#008000;\" x=\"465.086575\" xlink:href=\"#m325b1a9a95\" y=\"25.537813\"/>\n     </g>\n    </g>\n    <g id=\"text_17\">\n     <!-- L'avanecement de l'algorithme -->\n     <defs>\n      <path d=\"M 9.8125 72.90625 \nL 19.671875 72.90625 \nL 19.671875 8.296875 \nL 55.171875 8.296875 \nL 55.171875 0 \nL 9.8125 0 \nz\n\" id=\"DejaVuSans-76\"/>\n      <path d=\"M 17.921875 72.90625 \nL 17.921875 45.796875 \nL 9.625 45.796875 \nL 9.625 72.90625 \nz\n\" id=\"DejaVuSans-39\"/>\n      <path d=\"M 2.984375 54.6875 \nL 12.5 54.6875 \nL 29.59375 8.796875 \nL 46.6875 54.6875 \nL 56.203125 54.6875 \nL 35.6875 0 \nL 23.484375 0 \nz\n\" id=\"DejaVuSans-118\"/>\n     </defs>\n     <g transform=\"translate(490.286575 30.437813)scale(0.14 -0.14)\">\n      <use xlink:href=\"#DejaVuSans-76\"/>\n      <use x=\"55.712891\" xlink:href=\"#DejaVuSans-39\"/>\n      <use x=\"83.203125\" xlink:href=\"#DejaVuSans-97\"/>\n      <use x=\"144.482422\" xlink:href=\"#DejaVuSans-118\"/>\n      <use x=\"203.662109\" xlink:href=\"#DejaVuSans-97\"/>\n      <use x=\"264.941406\" xlink:href=\"#DejaVuSans-110\"/>\n      <use x=\"328.320312\" xlink:href=\"#DejaVuSans-101\"/>\n      <use x=\"389.84375\" xlink:href=\"#DejaVuSans-99\"/>\n      <use x=\"444.824219\" xlink:href=\"#DejaVuSans-101\"/>\n      <use x=\"506.347656\" xlink:href=\"#DejaVuSans-109\"/>\n      <use x=\"603.759766\" xlink:href=\"#DejaVuSans-101\"/>\n      <use x=\"665.283203\" xlink:href=\"#DejaVuSans-110\"/>\n      <use x=\"728.662109\" xlink:href=\"#DejaVuSans-116\"/>\n      <use x=\"767.871094\" xlink:href=\"#DejaVuSans-32\"/>\n      <use x=\"799.658203\" xlink:href=\"#DejaVuSans-100\"/>\n      <use x=\"863.134766\" xlink:href=\"#DejaVuSans-101\"/>\n      <use x=\"924.658203\" xlink:href=\"#DejaVuSans-32\"/>\n      <use x=\"956.445312\" xlink:href=\"#DejaVuSans-108\"/>\n      <use x=\"984.228516\" xlink:href=\"#DejaVuSans-39\"/>\n      <use x=\"1011.71875\" xlink:href=\"#DejaVuSans-97\"/>\n      <use x=\"1072.998047\" xlink:href=\"#DejaVuSans-108\"/>\n      <use x=\"1100.78125\" xlink:href=\"#DejaVuSans-103\"/>\n      <use x=\"1164.257812\" xlink:href=\"#DejaVuSans-111\"/>\n      <use x=\"1225.439453\" xlink:href=\"#DejaVuSans-114\"/>\n      <use x=\"1266.552734\" xlink:href=\"#DejaVuSans-105\"/>\n      <use x=\"1294.335938\" xlink:href=\"#DejaVuSans-116\"/>\n      <use x=\"1333.544922\" xlink:href=\"#DejaVuSans-104\"/>\n      <use x=\"1396.923828\" xlink:href=\"#DejaVuSans-109\"/>\n      <use x=\"1494.335938\" xlink:href=\"#DejaVuSans-101\"/>\n     </g>\n    </g>\n   </g>\n  </g>\n </g>\n <defs>\n  <clipPath id=\"p15136c0054\">\n   <rect height=\"349.92\" width=\"626.4\" x=\"94.309075\" y=\"7.2\"/>\n  </clipPath>\n </defs>\n</svg>\n"
          },
          "metadata": {
            "tags": []
          }
        }
      ]
    },
    {
      "cell_type": "markdown",
      "metadata": {
        "id": "gERbhXT-jufB",
        "colab_type": "text"
      },
      "source": [
        "# help"
      ]
    },
    {
      "cell_type": "code",
      "metadata": {
        "id": "Ff3Wlpp2Vvb6",
        "colab_type": "code",
        "colab": {
          "base_uri": "https://localhost:8080/",
          "height": 1000
        },
        "outputId": "b43694ae-c79f-4f9b-d547-02fe2890187a"
      },
      "source": [
        "help(plt.plot)"
      ],
      "execution_count": null,
      "outputs": [
        {
          "output_type": "stream",
          "text": [
            "Help on function plot in module matplotlib.pyplot:\n",
            "\n",
            "plot(*args, scalex=True, scaley=True, data=None, **kwargs)\n",
            "    Plot y versus x as lines and/or markers.\n",
            "    \n",
            "    Call signatures::\n",
            "    \n",
            "        plot([x], y, [fmt], *, data=None, **kwargs)\n",
            "        plot([x], y, [fmt], [x2], y2, [fmt2], ..., **kwargs)\n",
            "    \n",
            "    The coordinates of the points or line nodes are given by *x*, *y*.\n",
            "    \n",
            "    The optional parameter *fmt* is a convenient way for defining basic\n",
            "    formatting like color, marker and linestyle. It's a shortcut string\n",
            "    notation described in the *Notes* section below.\n",
            "    \n",
            "    >>> plot(x, y)        # plot x and y using default line style and color\n",
            "    >>> plot(x, y, 'bo')  # plot x and y using blue circle markers\n",
            "    >>> plot(y)           # plot y using x as index array 0..N-1\n",
            "    >>> plot(y, 'r+')     # ditto, but with red plusses\n",
            "    \n",
            "    You can use `.Line2D` properties as keyword arguments for more\n",
            "    control on the appearance. Line properties and *fmt* can be mixed.\n",
            "    The following two calls yield identical results:\n",
            "    \n",
            "    >>> plot(x, y, 'go--', linewidth=2, markersize=12)\n",
            "    >>> plot(x, y, color='green', marker='o', linestyle='dashed',\n",
            "    ...      linewidth=2, markersize=12)\n",
            "    \n",
            "    When conflicting with *fmt*, keyword arguments take precedence.\n",
            "    \n",
            "    \n",
            "    **Plotting labelled data**\n",
            "    \n",
            "    There's a convenient way for plotting objects with labelled data (i.e.\n",
            "    data that can be accessed by index ``obj['y']``). Instead of giving\n",
            "    the data in *x* and *y*, you can provide the object in the *data*\n",
            "    parameter and just give the labels for *x* and *y*::\n",
            "    \n",
            "    >>> plot('xlabel', 'ylabel', data=obj)\n",
            "    \n",
            "    All indexable objects are supported. This could e.g. be a `dict`, a\n",
            "    `pandas.DataFame` or a structured numpy array.\n",
            "    \n",
            "    \n",
            "    **Plotting multiple sets of data**\n",
            "    \n",
            "    There are various ways to plot multiple sets of data.\n",
            "    \n",
            "    - The most straight forward way is just to call `plot` multiple times.\n",
            "      Example:\n",
            "    \n",
            "      >>> plot(x1, y1, 'bo')\n",
            "      >>> plot(x2, y2, 'go')\n",
            "    \n",
            "    - Alternatively, if your data is already a 2d array, you can pass it\n",
            "      directly to *x*, *y*. A separate data set will be drawn for every\n",
            "      column.\n",
            "    \n",
            "      Example: an array ``a`` where the first column represents the *x*\n",
            "      values and the other columns are the *y* columns::\n",
            "    \n",
            "      >>> plot(a[0], a[1:])\n",
            "    \n",
            "    - The third way is to specify multiple sets of *[x]*, *y*, *[fmt]*\n",
            "      groups::\n",
            "    \n",
            "      >>> plot(x1, y1, 'g^', x2, y2, 'g-')\n",
            "    \n",
            "      In this case, any additional keyword argument applies to all\n",
            "      datasets. Also this syntax cannot be combined with the *data*\n",
            "      parameter.\n",
            "    \n",
            "    By default, each line is assigned a different style specified by a\n",
            "    'style cycle'. The *fmt* and line property parameters are only\n",
            "    necessary if you want explicit deviations from these defaults.\n",
            "    Alternatively, you can also change the style cycle using\n",
            "    :rc:`axes.prop_cycle`.\n",
            "    \n",
            "    \n",
            "    Parameters\n",
            "    ----------\n",
            "    x, y : array-like or scalar\n",
            "        The horizontal / vertical coordinates of the data points.\n",
            "        *x* values are optional and default to `range(len(y))`.\n",
            "    \n",
            "        Commonly, these parameters are 1D arrays.\n",
            "    \n",
            "        They can also be scalars, or two-dimensional (in that case, the\n",
            "        columns represent separate data sets).\n",
            "    \n",
            "        These arguments cannot be passed as keywords.\n",
            "    \n",
            "    fmt : str, optional\n",
            "        A format string, e.g. 'ro' for red circles. See the *Notes*\n",
            "        section for a full description of the format strings.\n",
            "    \n",
            "        Format strings are just an abbreviation for quickly setting\n",
            "        basic line properties. All of these and more can also be\n",
            "        controlled by keyword arguments.\n",
            "    \n",
            "        This argument cannot be passed as keyword.\n",
            "    \n",
            "    data : indexable object, optional\n",
            "        An object with labelled data. If given, provide the label names to\n",
            "        plot in *x* and *y*.\n",
            "    \n",
            "        .. note::\n",
            "            Technically there's a slight ambiguity in calls where the\n",
            "            second label is a valid *fmt*. `plot('n', 'o', data=obj)`\n",
            "            could be `plt(x, y)` or `plt(y, fmt)`. In such cases,\n",
            "            the former interpretation is chosen, but a warning is issued.\n",
            "            You may suppress the warning by adding an empty format string\n",
            "            `plot('n', 'o', '', data=obj)`.\n",
            "    \n",
            "    Other Parameters\n",
            "    ----------------\n",
            "    scalex, scaley : bool, optional, default: True\n",
            "        These parameters determined if the view limits are adapted to\n",
            "        the data limits. The values are passed on to `autoscale_view`.\n",
            "    \n",
            "    **kwargs : `.Line2D` properties, optional\n",
            "        *kwargs* are used to specify properties like a line label (for\n",
            "        auto legends), linewidth, antialiasing, marker face color.\n",
            "        Example::\n",
            "    \n",
            "        >>> plot([1, 2, 3], [1, 2, 3], 'go-', label='line 1', linewidth=2)\n",
            "        >>> plot([1, 2, 3], [1, 4, 9], 'rs', label='line 2')\n",
            "    \n",
            "        If you make multiple lines with one plot command, the kwargs\n",
            "        apply to all those lines.\n",
            "    \n",
            "        Here is a list of available `.Line2D` properties:\n",
            "    \n",
            "        Properties:\n",
            "        agg_filter: a filter function, which takes a (m, n, 3) float array and a dpi value, and returns a (m, n, 3) array\n",
            "        alpha: float or None\n",
            "        animated: bool\n",
            "        antialiased or aa: bool\n",
            "        clip_box: `.Bbox`\n",
            "        clip_on: bool\n",
            "        clip_path: Patch or (Path, Transform) or None\n",
            "        color or c: color\n",
            "        contains: callable\n",
            "        dash_capstyle: {'butt', 'round', 'projecting'}\n",
            "        dash_joinstyle: {'miter', 'round', 'bevel'}\n",
            "        dashes: sequence of floats (on/off ink in points) or (None, None)\n",
            "        data: (2, N) array or two 1D arrays\n",
            "        drawstyle or ds: {'default', 'steps', 'steps-pre', 'steps-mid', 'steps-post'}, default: 'default'\n",
            "        figure: `.Figure`\n",
            "        fillstyle: {'full', 'left', 'right', 'bottom', 'top', 'none'}\n",
            "        gid: str\n",
            "        in_layout: bool\n",
            "        label: object\n",
            "        linestyle or ls: {'-', '--', '-.', ':', '', (offset, on-off-seq), ...}\n",
            "        linewidth or lw: float\n",
            "        marker: marker style\n",
            "        markeredgecolor or mec: color\n",
            "        markeredgewidth or mew: float\n",
            "        markerfacecolor or mfc: color\n",
            "        markerfacecoloralt or mfcalt: color\n",
            "        markersize or ms: float\n",
            "        markevery: None or int or (int, int) or slice or List[int] or float or (float, float)\n",
            "        path_effects: `.AbstractPathEffect`\n",
            "        picker: float or callable[[Artist, Event], Tuple[bool, dict]]\n",
            "        pickradius: float\n",
            "        rasterized: bool or None\n",
            "        sketch_params: (scale: float, length: float, randomness: float)\n",
            "        snap: bool or None\n",
            "        solid_capstyle: {'butt', 'round', 'projecting'}\n",
            "        solid_joinstyle: {'miter', 'round', 'bevel'}\n",
            "        transform: `matplotlib.transforms.Transform`\n",
            "        url: str\n",
            "        visible: bool\n",
            "        xdata: 1D array\n",
            "        ydata: 1D array\n",
            "        zorder: float\n",
            "    \n",
            "    Returns\n",
            "    -------\n",
            "    lines\n",
            "        A list of `.Line2D` objects representing the plotted data.\n",
            "    \n",
            "    See Also\n",
            "    --------\n",
            "    scatter : XY scatter plot with markers of varying size and/or color (\n",
            "        sometimes also called bubble chart).\n",
            "    \n",
            "    Notes\n",
            "    -----\n",
            "    **Format Strings**\n",
            "    \n",
            "    A format string consists of a part for color, marker and line::\n",
            "    \n",
            "        fmt = '[marker][line][color]'\n",
            "    \n",
            "    Each of them is optional. If not provided, the value from the style\n",
            "    cycle is used. Exception: If ``line`` is given, but no ``marker``,\n",
            "    the data will be a line without markers.\n",
            "    \n",
            "    Other combinations such as ``[color][marker][line]`` are also\n",
            "    supported, but note that their parsing may be ambiguous.\n",
            "    \n",
            "    **Markers**\n",
            "    \n",
            "    =============    ===============================\n",
            "    character        description\n",
            "    =============    ===============================\n",
            "    ``'.'``          point marker\n",
            "    ``','``          pixel marker\n",
            "    ``'o'``          circle marker\n",
            "    ``'v'``          triangle_down marker\n",
            "    ``'^'``          triangle_up marker\n",
            "    ``'<'``          triangle_left marker\n",
            "    ``'>'``          triangle_right marker\n",
            "    ``'1'``          tri_down marker\n",
            "    ``'2'``          tri_up marker\n",
            "    ``'3'``          tri_left marker\n",
            "    ``'4'``          tri_right marker\n",
            "    ``'s'``          square marker\n",
            "    ``'p'``          pentagon marker\n",
            "    ``'*'``          star marker\n",
            "    ``'h'``          hexagon1 marker\n",
            "    ``'H'``          hexagon2 marker\n",
            "    ``'+'``          plus marker\n",
            "    ``'x'``          x marker\n",
            "    ``'D'``          diamond marker\n",
            "    ``'d'``          thin_diamond marker\n",
            "    ``'|'``          vline marker\n",
            "    ``'_'``          hline marker\n",
            "    =============    ===============================\n",
            "    \n",
            "    **Line Styles**\n",
            "    \n",
            "    =============    ===============================\n",
            "    character        description\n",
            "    =============    ===============================\n",
            "    ``'-'``          solid line style\n",
            "    ``'--'``         dashed line style\n",
            "    ``'-.'``         dash-dot line style\n",
            "    ``':'``          dotted line style\n",
            "    =============    ===============================\n",
            "    \n",
            "    Example format strings::\n",
            "    \n",
            "        'b'    # blue markers with default shape\n",
            "        'or'   # red circles\n",
            "        '-g'   # green solid line\n",
            "        '--'   # dashed line with default color\n",
            "        '^k:'  # black triangle_up markers connected by a dotted line\n",
            "    \n",
            "    **Colors**\n",
            "    \n",
            "    The supported color abbreviations are the single letter codes\n",
            "    \n",
            "    =============    ===============================\n",
            "    character        color\n",
            "    =============    ===============================\n",
            "    ``'b'``          blue\n",
            "    ``'g'``          green\n",
            "    ``'r'``          red\n",
            "    ``'c'``          cyan\n",
            "    ``'m'``          magenta\n",
            "    ``'y'``          yellow\n",
            "    ``'k'``          black\n",
            "    ``'w'``          white\n",
            "    =============    ===============================\n",
            "    \n",
            "    and the ``'CN'`` colors that index into the default property cycle.\n",
            "    \n",
            "    If the color is the only part of the format string, you can\n",
            "    additionally use any  `matplotlib.colors` spec, e.g. full names\n",
            "    (``'green'``) or hex strings (``'#008000'``).\n",
            "\n"
          ],
          "name": "stdout"
        }
      ]
    },
    {
      "cell_type": "code",
      "metadata": {
        "id": "Cy1_XLRxPwPu",
        "colab_type": "code",
        "colab": {
          "base_uri": "https://localhost:8080/",
          "height": 153
        },
        "outputId": "132b1d3f-66ea-4da2-f83f-6919d35a9648"
      },
      "source": [
        "help(sorted)\n"
      ],
      "execution_count": null,
      "outputs": [
        {
          "output_type": "stream",
          "text": [
            "Help on built-in function sorted in module builtins:\n",
            "\n",
            "sorted(iterable, /, *, key=None, reverse=False)\n",
            "    Return a new list containing all items from the iterable in ascending order.\n",
            "    \n",
            "    A custom key function can be supplied to customize the sort order, and the\n",
            "    reverse flag can be set to request the result in descending order.\n",
            "\n"
          ],
          "name": "stdout"
        }
      ]
    },
    {
      "cell_type": "code",
      "metadata": {
        "id": "axQpqpPkPzqF",
        "colab_type": "code",
        "colab": {
          "base_uri": "https://localhost:8080/",
          "height": 493
        },
        "outputId": "b08b7180-cbc4-45ce-aae4-54839af7f0e0"
      },
      "source": [
        "help(enumerate)"
      ],
      "execution_count": null,
      "outputs": [
        {
          "output_type": "stream",
          "text": [
            "Help on class enumerate in module builtins:\n",
            "\n",
            "class enumerate(object)\n",
            " |  enumerate(iterable[, start]) -> iterator for index, value of iterable\n",
            " |  \n",
            " |  Return an enumerate object.  iterable must be another object that supports\n",
            " |  iteration.  The enumerate object yields pairs containing a count (from\n",
            " |  start, which defaults to zero) and a value yielded by the iterable argument.\n",
            " |  enumerate is useful for obtaining an indexed list:\n",
            " |      (0, seq[0]), (1, seq[1]), (2, seq[2]), ...\n",
            " |  \n",
            " |  Methods defined here:\n",
            " |  \n",
            " |  __getattribute__(self, name, /)\n",
            " |      Return getattr(self, name).\n",
            " |  \n",
            " |  __iter__(self, /)\n",
            " |      Implement iter(self).\n",
            " |  \n",
            " |  __new__(*args, **kwargs) from builtins.type\n",
            " |      Create and return a new object.  See help(type) for accurate signature.\n",
            " |  \n",
            " |  __next__(self, /)\n",
            " |      Implement next(self).\n",
            " |  \n",
            " |  __reduce__(...)\n",
            " |      Return state information for pickling.\n",
            "\n"
          ],
          "name": "stdout"
        }
      ]
    },
    {
      "cell_type": "code",
      "metadata": {
        "id": "gqpSr9wxU4NW",
        "colab_type": "code",
        "colab": {}
      },
      "source": [
        ""
      ],
      "execution_count": null,
      "outputs": []
    }
  ]
}